{
 "cells": [
  {
   "cell_type": "markdown",
   "id": "0f4f6dbf",
   "metadata": {
    "papermill": {
     "duration": 0.022732,
     "end_time": "2022-04-13T12:41:58.720330",
     "exception": false,
     "start_time": "2022-04-13T12:41:58.697598",
     "status": "completed"
    },
    "tags": []
   },
   "source": [
    "**This notebook is an exercise in the [Pandas](https://www.kaggle.com/learn/pandas) course.  You can reference the tutorial at [this link](https://www.kaggle.com/residentmario/grouping-and-sorting).**\n",
    "\n",
    "---\n"
   ]
  },
  {
   "cell_type": "markdown",
   "id": "bab3f34a",
   "metadata": {
    "papermill": {
     "duration": 0.021431,
     "end_time": "2022-04-13T12:41:58.764093",
     "exception": false,
     "start_time": "2022-04-13T12:41:58.742662",
     "status": "completed"
    },
    "tags": []
   },
   "source": [
    "# Introduction\n",
    "\n",
    "In these exercises we'll apply groupwise analysis to our dataset.\n",
    "\n",
    "Run the code cell below to load the data before running the exercises."
   ]
  },
  {
   "cell_type": "code",
   "execution_count": 1,
   "id": "1ae354dd",
   "metadata": {
    "execution": {
     "iopub.execute_input": "2022-04-13T12:41:58.820472Z",
     "iopub.status.busy": "2022-04-13T12:41:58.815689Z",
     "iopub.status.idle": "2022-04-13T12:42:01.905147Z",
     "shell.execute_reply": "2022-04-13T12:42:01.906134Z",
     "shell.execute_reply.started": "2022-04-13T12:27:45.735431Z"
    },
    "papermill": {
     "duration": 3.121219,
     "end_time": "2022-04-13T12:42:01.906732",
     "exception": false,
     "start_time": "2022-04-13T12:41:58.785513",
     "status": "completed"
    },
    "tags": []
   },
   "outputs": [
    {
     "name": "stdout",
     "output_type": "stream",
     "text": [
      "Setup complete.\n"
     ]
    }
   ],
   "source": [
    "import pandas as pd\n",
    "\n",
    "reviews = pd.read_csv(\"../input/wine-reviews/winemag-data-130k-v2.csv\", index_col=0)\n",
    "#pd.set_option(\"display.max_rows\", 5)\n",
    "\n",
    "from learntools.core import binder; binder.bind(globals())\n",
    "from learntools.pandas.grouping_and_sorting import *\n",
    "print(\"Setup complete.\")"
   ]
  },
  {
   "cell_type": "markdown",
   "id": "30c41ba2",
   "metadata": {
    "papermill": {
     "duration": 0.021388,
     "end_time": "2022-04-13T12:42:01.951611",
     "exception": false,
     "start_time": "2022-04-13T12:42:01.930223",
     "status": "completed"
    },
    "tags": []
   },
   "source": [
    "# Exercises"
   ]
  },
  {
   "cell_type": "markdown",
   "id": "100bf8b5",
   "metadata": {
    "papermill": {
     "duration": 0.02133,
     "end_time": "2022-04-13T12:42:01.994558",
     "exception": false,
     "start_time": "2022-04-13T12:42:01.973228",
     "status": "completed"
    },
    "tags": []
   },
   "source": [
    "## 1.\n",
    "Who are the most common wine reviewers in the dataset? Create a `Series` whose index is the `taster_twitter_handle` category from the dataset, and whose values count how many reviews each person wrote."
   ]
  },
  {
   "cell_type": "code",
   "execution_count": 2,
   "id": "31b88cd4",
   "metadata": {
    "execution": {
     "iopub.execute_input": "2022-04-13T12:42:02.059243Z",
     "iopub.status.busy": "2022-04-13T12:42:02.041045Z",
     "iopub.status.idle": "2022-04-13T12:42:02.072518Z",
     "shell.execute_reply": "2022-04-13T12:42:02.071826Z",
     "shell.execute_reply.started": "2022-04-13T12:29:44.642584Z"
    },
    "papermill": {
     "duration": 0.056422,
     "end_time": "2022-04-13T12:42:02.072662",
     "exception": false,
     "start_time": "2022-04-13T12:42:02.016240",
     "status": "completed"
    },
    "tags": []
   },
   "outputs": [
    {
     "data": {
      "application/javascript": [
       "parent.postMessage({\"jupyterEvent\": \"custom.exercise_interaction\", \"data\": {\"outcomeType\": 1, \"valueTowardsCompletion\": 0.16666666666666666, \"interactionType\": 1, \"questionType\": 1, \"questionId\": \"1_ReviewsWritten\", \"learnToolsVersion\": \"0.3.4\", \"failureMessage\": \"\", \"exceptionClass\": \"\", \"trace\": \"\"}}, \"*\")"
      ],
      "text/plain": [
       "<IPython.core.display.Javascript object>"
      ]
     },
     "metadata": {},
     "output_type": "display_data"
    },
    {
     "data": {
      "text/markdown": [
       "<span style=\"color:#33cc33\">Correct:</span> \n",
       "\n",
       "\n",
       "```python\n",
       "reviews_written = reviews.groupby('taster_twitter_handle').size()\n",
       "```\n",
       "or\n",
       "```python\n",
       "reviews_written = reviews.groupby('taster_twitter_handle').taster_twitter_handle.count()\n",
       "```\n"
      ],
      "text/plain": [
       "Correct: \n",
       "\n",
       "\n",
       "```python\n",
       "reviews_written = reviews.groupby('taster_twitter_handle').size()\n",
       "```\n",
       "or\n",
       "```python\n",
       "reviews_written = reviews.groupby('taster_twitter_handle').taster_twitter_handle.count()\n",
       "```"
      ]
     },
     "metadata": {},
     "output_type": "display_data"
    }
   ],
   "source": [
    "# Your code here\n",
    "reviews_written = reviews.groupby('taster_twitter_handle').size()\n",
    "\n",
    "# Check your answer\n",
    "q1.check()"
   ]
  },
  {
   "cell_type": "code",
   "execution_count": 3,
   "id": "ab77c638",
   "metadata": {
    "execution": {
     "iopub.execute_input": "2022-04-13T12:42:02.123972Z",
     "iopub.status.busy": "2022-04-13T12:42:02.123256Z",
     "iopub.status.idle": "2022-04-13T12:42:02.125827Z",
     "shell.execute_reply": "2022-04-13T12:42:02.126358Z",
     "shell.execute_reply.started": "2022-04-13T12:29:28.238392Z"
    },
    "papermill": {
     "duration": 0.030779,
     "end_time": "2022-04-13T12:42:02.126527",
     "exception": false,
     "start_time": "2022-04-13T12:42:02.095748",
     "status": "completed"
    },
    "tags": []
   },
   "outputs": [],
   "source": [
    "#q1.hint()\n",
    "#q1.solution()"
   ]
  },
  {
   "cell_type": "markdown",
   "id": "2f1786ee",
   "metadata": {
    "papermill": {
     "duration": 0.022611,
     "end_time": "2022-04-13T12:42:02.172811",
     "exception": false,
     "start_time": "2022-04-13T12:42:02.150200",
     "status": "completed"
    },
    "tags": []
   },
   "source": [
    "## 2.\n",
    "What is the best wine I can buy for a given amount of money? Create a `Series` whose index is wine prices and whose values is the maximum number of points a wine costing that much was given in a review. Sort the values by price, ascending (so that `4.0` dollars is at the top and `3300.0` dollars is at the bottom)."
   ]
  },
  {
   "cell_type": "code",
   "execution_count": 4,
   "id": "fedc0f7a",
   "metadata": {
    "execution": {
     "iopub.execute_input": "2022-04-13T12:42:02.223375Z",
     "iopub.status.busy": "2022-04-13T12:42:02.222670Z",
     "iopub.status.idle": "2022-04-13T12:42:02.237053Z",
     "shell.execute_reply": "2022-04-13T12:42:02.236390Z",
     "shell.execute_reply.started": "2022-04-13T12:30:23.902782Z"
    },
    "papermill": {
     "duration": 0.041458,
     "end_time": "2022-04-13T12:42:02.237215",
     "exception": false,
     "start_time": "2022-04-13T12:42:02.195757",
     "status": "completed"
    },
    "tags": []
   },
   "outputs": [
    {
     "data": {
      "application/javascript": [
       "parent.postMessage({\"jupyterEvent\": \"custom.exercise_interaction\", \"data\": {\"outcomeType\": 1, \"valueTowardsCompletion\": 0.16666666666666666, \"interactionType\": 1, \"questionType\": 1, \"questionId\": \"2_BestRatingPerPrice\", \"learnToolsVersion\": \"0.3.4\", \"failureMessage\": \"\", \"exceptionClass\": \"\", \"trace\": \"\"}}, \"*\")"
      ],
      "text/plain": [
       "<IPython.core.display.Javascript object>"
      ]
     },
     "metadata": {},
     "output_type": "display_data"
    },
    {
     "data": {
      "text/markdown": [
       "<span style=\"color:#33cc33\">Correct</span>"
      ],
      "text/plain": [
       "Correct"
      ]
     },
     "metadata": {},
     "output_type": "display_data"
    }
   ],
   "source": [
    "best_rating_per_price = reviews.groupby('price').points.max()\n",
    "\n",
    "# Check your answer\n",
    "q2.check()"
   ]
  },
  {
   "cell_type": "code",
   "execution_count": 5,
   "id": "71623dda",
   "metadata": {
    "execution": {
     "iopub.execute_input": "2022-04-13T12:42:02.291321Z",
     "iopub.status.busy": "2022-04-13T12:42:02.290403Z",
     "iopub.status.idle": "2022-04-13T12:42:02.293652Z",
     "shell.execute_reply": "2022-04-13T12:42:02.293118Z"
    },
    "papermill": {
     "duration": 0.03229,
     "end_time": "2022-04-13T12:42:02.293802",
     "exception": false,
     "start_time": "2022-04-13T12:42:02.261512",
     "status": "completed"
    },
    "tags": []
   },
   "outputs": [],
   "source": [
    "#q2.hint()\n",
    "#q2.solution()"
   ]
  },
  {
   "cell_type": "markdown",
   "id": "e1e841a0",
   "metadata": {
    "papermill": {
     "duration": 0.024246,
     "end_time": "2022-04-13T12:42:02.342713",
     "exception": false,
     "start_time": "2022-04-13T12:42:02.318467",
     "status": "completed"
    },
    "tags": []
   },
   "source": [
    "## 3.\n",
    "What are the minimum and maximum prices for each `variety` of wine? Create a `DataFrame` whose index is the `variety` category from the dataset and whose values are the `min` and `max` values thereof."
   ]
  },
  {
   "cell_type": "code",
   "execution_count": 6,
   "id": "ddbad991",
   "metadata": {
    "execution": {
     "iopub.execute_input": "2022-04-13T12:42:02.418795Z",
     "iopub.status.busy": "2022-04-13T12:42:02.397317Z",
     "iopub.status.idle": "2022-04-13T12:42:02.430565Z",
     "shell.execute_reply": "2022-04-13T12:42:02.430015Z",
     "shell.execute_reply.started": "2022-04-13T12:32:40.454543Z"
    },
    "papermill": {
     "duration": 0.063361,
     "end_time": "2022-04-13T12:42:02.430727",
     "exception": false,
     "start_time": "2022-04-13T12:42:02.367366",
     "status": "completed"
    },
    "tags": []
   },
   "outputs": [
    {
     "data": {
      "application/javascript": [
       "parent.postMessage({\"jupyterEvent\": \"custom.exercise_interaction\", \"data\": {\"outcomeType\": 1, \"valueTowardsCompletion\": 0.16666666666666666, \"interactionType\": 1, \"questionType\": 1, \"questionId\": \"3_PriceExtremes\", \"learnToolsVersion\": \"0.3.4\", \"failureMessage\": \"\", \"exceptionClass\": \"\", \"trace\": \"\"}}, \"*\")"
      ],
      "text/plain": [
       "<IPython.core.display.Javascript object>"
      ]
     },
     "metadata": {},
     "output_type": "display_data"
    },
    {
     "data": {
      "text/markdown": [
       "<span style=\"color:#33cc33\">Correct</span>"
      ],
      "text/plain": [
       "Correct"
      ]
     },
     "metadata": {},
     "output_type": "display_data"
    }
   ],
   "source": [
    "price_extremes = reviews.groupby('variety').price.agg([min, max])\n",
    "\n",
    "# Check your answer\n",
    "q3.check()"
   ]
  },
  {
   "cell_type": "code",
   "execution_count": 7,
   "id": "7c55ddd7",
   "metadata": {
    "execution": {
     "iopub.execute_input": "2022-04-13T12:42:02.488238Z",
     "iopub.status.busy": "2022-04-13T12:42:02.487292Z",
     "iopub.status.idle": "2022-04-13T12:42:02.490533Z",
     "shell.execute_reply": "2022-04-13T12:42:02.489999Z"
    },
    "papermill": {
     "duration": 0.033725,
     "end_time": "2022-04-13T12:42:02.490679",
     "exception": false,
     "start_time": "2022-04-13T12:42:02.456954",
     "status": "completed"
    },
    "tags": []
   },
   "outputs": [],
   "source": [
    "#q3.hint()\n",
    "#q3.solution()"
   ]
  },
  {
   "cell_type": "markdown",
   "id": "a94d4539",
   "metadata": {
    "papermill": {
     "duration": 0.025629,
     "end_time": "2022-04-13T12:42:02.542482",
     "exception": false,
     "start_time": "2022-04-13T12:42:02.516853",
     "status": "completed"
    },
    "tags": []
   },
   "source": [
    "## 4.\n",
    "What are the most expensive wine varieties? Create a variable `sorted_varieties` containing a copy of the dataframe from the previous question where varieties are sorted in descending order based on minimum price, then on maximum price (to break ties)."
   ]
  },
  {
   "cell_type": "code",
   "execution_count": 8,
   "id": "4740a240",
   "metadata": {
    "execution": {
     "iopub.execute_input": "2022-04-13T12:42:02.602558Z",
     "iopub.status.busy": "2022-04-13T12:42:02.601793Z",
     "iopub.status.idle": "2022-04-13T12:42:02.608333Z",
     "shell.execute_reply": "2022-04-13T12:42:02.608807Z",
     "shell.execute_reply.started": "2022-04-13T12:36:51.897238Z"
    },
    "papermill": {
     "duration": 0.040085,
     "end_time": "2022-04-13T12:42:02.609012",
     "exception": false,
     "start_time": "2022-04-13T12:42:02.568927",
     "status": "completed"
    },
    "tags": []
   },
   "outputs": [
    {
     "data": {
      "application/javascript": [
       "parent.postMessage({\"jupyterEvent\": \"custom.exercise_interaction\", \"data\": {\"outcomeType\": 1, \"valueTowardsCompletion\": 0.16666666666666666, \"interactionType\": 1, \"questionType\": 1, \"questionId\": \"4_SortedVarieties\", \"learnToolsVersion\": \"0.3.4\", \"failureMessage\": \"\", \"exceptionClass\": \"\", \"trace\": \"\"}}, \"*\")"
      ],
      "text/plain": [
       "<IPython.core.display.Javascript object>"
      ]
     },
     "metadata": {},
     "output_type": "display_data"
    },
    {
     "data": {
      "text/markdown": [
       "<span style=\"color:#33cc33\">Correct</span>"
      ],
      "text/plain": [
       "Correct"
      ]
     },
     "metadata": {},
     "output_type": "display_data"
    }
   ],
   "source": [
    "sorted_varieties = price_extremes.sort_values(by=['min','max'],ascending=False)\n",
    "\n",
    "# Check your answer\n",
    "q4.check()"
   ]
  },
  {
   "cell_type": "code",
   "execution_count": 9,
   "id": "33905b15",
   "metadata": {
    "execution": {
     "iopub.execute_input": "2022-04-13T12:42:02.668475Z",
     "iopub.status.busy": "2022-04-13T12:42:02.667735Z",
     "iopub.status.idle": "2022-04-13T12:42:02.670248Z",
     "shell.execute_reply": "2022-04-13T12:42:02.670726Z",
     "shell.execute_reply.started": "2022-04-13T12:36:58.717370Z"
    },
    "papermill": {
     "duration": 0.034502,
     "end_time": "2022-04-13T12:42:02.670931",
     "exception": false,
     "start_time": "2022-04-13T12:42:02.636429",
     "status": "completed"
    },
    "tags": []
   },
   "outputs": [],
   "source": [
    "#q4.hint()\n",
    "#q4.solution()"
   ]
  },
  {
   "cell_type": "markdown",
   "id": "a05237e1",
   "metadata": {
    "papermill": {
     "duration": 0.027309,
     "end_time": "2022-04-13T12:42:02.725800",
     "exception": false,
     "start_time": "2022-04-13T12:42:02.698491",
     "status": "completed"
    },
    "tags": []
   },
   "source": [
    "## 5.\n",
    "Create a `Series` whose index is reviewers and whose values is the average review score given out by that reviewer. Hint: you will need the `taster_name` and `points` columns."
   ]
  },
  {
   "cell_type": "code",
   "execution_count": 10,
   "id": "2dd12f35",
   "metadata": {
    "execution": {
     "iopub.execute_input": "2022-04-13T12:42:02.784237Z",
     "iopub.status.busy": "2022-04-13T12:42:02.783590Z",
     "iopub.status.idle": "2022-04-13T12:42:02.809400Z",
     "shell.execute_reply": "2022-04-13T12:42:02.809909Z",
     "shell.execute_reply.started": "2022-04-13T12:38:48.613340Z"
    },
    "papermill": {
     "duration": 0.056713,
     "end_time": "2022-04-13T12:42:02.810104",
     "exception": false,
     "start_time": "2022-04-13T12:42:02.753391",
     "status": "completed"
    },
    "tags": []
   },
   "outputs": [
    {
     "data": {
      "application/javascript": [
       "parent.postMessage({\"jupyterEvent\": \"custom.exercise_interaction\", \"data\": {\"outcomeType\": 1, \"valueTowardsCompletion\": 0.16666666666666666, \"interactionType\": 1, \"questionType\": 1, \"questionId\": \"5_ReviewerMeanRatings\", \"learnToolsVersion\": \"0.3.4\", \"failureMessage\": \"\", \"exceptionClass\": \"\", \"trace\": \"\"}}, \"*\")"
      ],
      "text/plain": [
       "<IPython.core.display.Javascript object>"
      ]
     },
     "metadata": {},
     "output_type": "display_data"
    },
    {
     "data": {
      "text/markdown": [
       "<span style=\"color:#33cc33\">Correct</span>"
      ],
      "text/plain": [
       "Correct"
      ]
     },
     "metadata": {},
     "output_type": "display_data"
    }
   ],
   "source": [
    "reviewer_mean_ratings = reviews.groupby('taster_name').points.mean()\n",
    "\n",
    "# Check your answer\n",
    "q5.check()"
   ]
  },
  {
   "cell_type": "code",
   "execution_count": 11,
   "id": "05bb1a06",
   "metadata": {
    "execution": {
     "iopub.execute_input": "2022-04-13T12:42:02.871567Z",
     "iopub.status.busy": "2022-04-13T12:42:02.870747Z",
     "iopub.status.idle": "2022-04-13T12:42:02.873708Z",
     "shell.execute_reply": "2022-04-13T12:42:02.874202Z",
     "shell.execute_reply.started": "2022-04-13T12:38:56.827907Z"
    },
    "papermill": {
     "duration": 0.035948,
     "end_time": "2022-04-13T12:42:02.874378",
     "exception": false,
     "start_time": "2022-04-13T12:42:02.838430",
     "status": "completed"
    },
    "tags": []
   },
   "outputs": [],
   "source": [
    "#q5.hint()\n",
    "#q5.solution()"
   ]
  },
  {
   "cell_type": "markdown",
   "id": "2760d38f",
   "metadata": {
    "papermill": {
     "duration": 0.028516,
     "end_time": "2022-04-13T12:42:02.931545",
     "exception": false,
     "start_time": "2022-04-13T12:42:02.903029",
     "status": "completed"
    },
    "tags": []
   },
   "source": [
    "Are there significant differences in the average scores assigned by the various reviewers? Run the cell below to use the `describe()` method to see a summary of the range of values."
   ]
  },
  {
   "cell_type": "code",
   "execution_count": 12,
   "id": "1f81786d",
   "metadata": {
    "execution": {
     "iopub.execute_input": "2022-04-13T12:42:02.994809Z",
     "iopub.status.busy": "2022-04-13T12:42:02.994149Z",
     "iopub.status.idle": "2022-04-13T12:42:03.003729Z",
     "shell.execute_reply": "2022-04-13T12:42:03.003214Z",
     "shell.execute_reply.started": "2022-04-13T12:39:00.558416Z"
    },
    "papermill": {
     "duration": 0.043914,
     "end_time": "2022-04-13T12:42:03.003891",
     "exception": false,
     "start_time": "2022-04-13T12:42:02.959977",
     "status": "completed"
    },
    "tags": []
   },
   "outputs": [
    {
     "data": {
      "text/plain": [
       "count    19.000000\n",
       "mean     88.233026\n",
       "std       1.243610\n",
       "min      85.855422\n",
       "25%      87.323501\n",
       "50%      88.536235\n",
       "75%      88.975256\n",
       "max      90.562551\n",
       "Name: points, dtype: float64"
      ]
     },
     "execution_count": 12,
     "metadata": {},
     "output_type": "execute_result"
    }
   ],
   "source": [
    "reviewer_mean_ratings.describe()"
   ]
  },
  {
   "cell_type": "markdown",
   "id": "f62c37b2",
   "metadata": {
    "papermill": {
     "duration": 0.028938,
     "end_time": "2022-04-13T12:42:03.062107",
     "exception": false,
     "start_time": "2022-04-13T12:42:03.033169",
     "status": "completed"
    },
    "tags": []
   },
   "source": [
    "## 6.\n",
    "What combination of countries and varieties are most common? Create a `Series` whose index is a `MultiIndex`of `{country, variety}` pairs. For example, a pinot noir produced in the US should map to `{\"US\", \"Pinot Noir\"}`. Sort the values in the `Series` in descending order based on wine count."
   ]
  },
  {
   "cell_type": "code",
   "execution_count": 13,
   "id": "f2b6a0d4",
   "metadata": {
    "execution": {
     "iopub.execute_input": "2022-04-13T12:42:03.143128Z",
     "iopub.status.busy": "2022-04-13T12:42:03.142204Z",
     "iopub.status.idle": "2022-04-13T12:42:03.173633Z",
     "shell.execute_reply": "2022-04-13T12:42:03.173035Z",
     "shell.execute_reply.started": "2022-04-13T12:41:27.349851Z"
    },
    "papermill": {
     "duration": 0.082657,
     "end_time": "2022-04-13T12:42:03.173764",
     "exception": false,
     "start_time": "2022-04-13T12:42:03.091107",
     "status": "completed"
    },
    "tags": []
   },
   "outputs": [
    {
     "data": {
      "application/javascript": [
       "parent.postMessage({\"jupyterEvent\": \"custom.exercise_interaction\", \"data\": {\"outcomeType\": 1, \"valueTowardsCompletion\": 0.16666666666666666, \"interactionType\": 1, \"questionType\": 1, \"questionId\": \"6_GroupbyCountryVariety\", \"learnToolsVersion\": \"0.3.4\", \"failureMessage\": \"\", \"exceptionClass\": \"\", \"trace\": \"\"}}, \"*\")"
      ],
      "text/plain": [
       "<IPython.core.display.Javascript object>"
      ]
     },
     "metadata": {},
     "output_type": "display_data"
    },
    {
     "data": {
      "text/markdown": [
       "<span style=\"color:#33cc33\">Correct</span>"
      ],
      "text/plain": [
       "Correct"
      ]
     },
     "metadata": {},
     "output_type": "display_data"
    }
   ],
   "source": [
    "country_variety_counts = reviews.groupby(['country','variety']).size().sort_values(ascending=False)\n",
    "\n",
    "# Check your answer\n",
    "q6.check()"
   ]
  },
  {
   "cell_type": "code",
   "execution_count": 14,
   "id": "96843767",
   "metadata": {
    "execution": {
     "iopub.execute_input": "2022-04-13T12:42:03.238128Z",
     "iopub.status.busy": "2022-04-13T12:42:03.237295Z",
     "iopub.status.idle": "2022-04-13T12:42:03.240652Z",
     "shell.execute_reply": "2022-04-13T12:42:03.240030Z",
     "shell.execute_reply.started": "2022-04-13T12:41:33.648597Z"
    },
    "papermill": {
     "duration": 0.037067,
     "end_time": "2022-04-13T12:42:03.240786",
     "exception": false,
     "start_time": "2022-04-13T12:42:03.203719",
     "status": "completed"
    },
    "tags": []
   },
   "outputs": [],
   "source": [
    "#q6.hint()\n",
    "#q6.solution()"
   ]
  },
  {
   "cell_type": "markdown",
   "id": "7f5617c7",
   "metadata": {
    "papermill": {
     "duration": 0.029714,
     "end_time": "2022-04-13T12:42:03.300397",
     "exception": false,
     "start_time": "2022-04-13T12:42:03.270683",
     "status": "completed"
    },
    "tags": []
   },
   "source": [
    "# Keep going\n",
    "\n",
    "Move on to the [**data types and missing data**](https://www.kaggle.com/residentmario/data-types-and-missing-values)."
   ]
  },
  {
   "cell_type": "markdown",
   "id": "046482c8",
   "metadata": {
    "papermill": {
     "duration": 0.029709,
     "end_time": "2022-04-13T12:42:03.360047",
     "exception": false,
     "start_time": "2022-04-13T12:42:03.330338",
     "status": "completed"
    },
    "tags": []
   },
   "source": [
    "---\n",
    "\n",
    "\n",
    "\n",
    "\n",
    "*Have questions or comments? Visit the [course discussion forum](https://www.kaggle.com/learn/pandas/discussion) to chat with other learners.*"
   ]
  }
 ],
 "metadata": {
  "kernelspec": {
   "display_name": "Python 3",
   "language": "python",
   "name": "python3"
  },
  "language_info": {
   "codemirror_mode": {
    "name": "ipython",
    "version": 3
   },
   "file_extension": ".py",
   "mimetype": "text/x-python",
   "name": "python",
   "nbconvert_exporter": "python",
   "pygments_lexer": "ipython3",
   "version": "3.7.12"
  },
  "papermill": {
   "default_parameters": {},
   "duration": 16.349993,
   "end_time": "2022-04-13T12:42:04.202600",
   "environment_variables": {},
   "exception": null,
   "input_path": "__notebook__.ipynb",
   "output_path": "__notebook__.ipynb",
   "parameters": {},
   "start_time": "2022-04-13T12:41:47.852607",
   "version": "2.3.3"
  }
 },
 "nbformat": 4,
 "nbformat_minor": 5
}
