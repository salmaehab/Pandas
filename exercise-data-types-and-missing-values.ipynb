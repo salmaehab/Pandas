{
 "cells": [
  {
   "cell_type": "markdown",
   "id": "0313b129",
   "metadata": {
    "papermill": {
     "duration": 0.017338,
     "end_time": "2022-04-13T12:56:21.341738",
     "exception": false,
     "start_time": "2022-04-13T12:56:21.324400",
     "status": "completed"
    },
    "tags": []
   },
   "source": [
    "**This notebook is an exercise in the [Pandas](https://www.kaggle.com/learn/pandas) course.  You can reference the tutorial at [this link](https://www.kaggle.com/residentmario/data-types-and-missing-values).**\n",
    "\n",
    "---\n"
   ]
  },
  {
   "cell_type": "markdown",
   "id": "773754ce",
   "metadata": {
    "papermill": {
     "duration": 0.015768,
     "end_time": "2022-04-13T12:56:21.374103",
     "exception": false,
     "start_time": "2022-04-13T12:56:21.358335",
     "status": "completed"
    },
    "tags": []
   },
   "source": [
    "# Introduction\n",
    "\n",
    "Run the following cell to load your data and some utility functions."
   ]
  },
  {
   "cell_type": "code",
   "execution_count": 1,
   "id": "b48299ac",
   "metadata": {
    "execution": {
     "iopub.execute_input": "2022-04-13T12:56:21.412015Z",
     "iopub.status.busy": "2022-04-13T12:56:21.410711Z",
     "iopub.status.idle": "2022-04-13T12:56:24.215171Z",
     "shell.execute_reply": "2022-04-13T12:56:24.215846Z",
     "shell.execute_reply.started": "2022-04-13T12:49:15.340634Z"
    },
    "papermill": {
     "duration": 2.825181,
     "end_time": "2022-04-13T12:56:24.216133",
     "exception": false,
     "start_time": "2022-04-13T12:56:21.390952",
     "status": "completed"
    },
    "tags": []
   },
   "outputs": [
    {
     "name": "stdout",
     "output_type": "stream",
     "text": [
      "Setup complete.\n"
     ]
    }
   ],
   "source": [
    "import pandas as pd\n",
    "\n",
    "reviews = pd.read_csv(\"../input/wine-reviews/winemag-data-130k-v2.csv\", index_col=0)\n",
    "\n",
    "from learntools.core import binder; binder.bind(globals())\n",
    "from learntools.pandas.data_types_and_missing_data import *\n",
    "print(\"Setup complete.\")"
   ]
  },
  {
   "cell_type": "markdown",
   "id": "d1301878",
   "metadata": {
    "papermill": {
     "duration": 0.01703,
     "end_time": "2022-04-13T12:56:24.250165",
     "exception": false,
     "start_time": "2022-04-13T12:56:24.233135",
     "status": "completed"
    },
    "tags": []
   },
   "source": [
    "# Exercises"
   ]
  },
  {
   "cell_type": "markdown",
   "id": "531182ea",
   "metadata": {
    "papermill": {
     "duration": 0.019394,
     "end_time": "2022-04-13T12:56:24.287273",
     "exception": false,
     "start_time": "2022-04-13T12:56:24.267879",
     "status": "completed"
    },
    "tags": []
   },
   "source": [
    "## 1. \n",
    "What is the data type of the `points` column in the dataset?"
   ]
  },
  {
   "cell_type": "code",
   "execution_count": 2,
   "id": "8eb86a89",
   "metadata": {
    "execution": {
     "iopub.execute_input": "2022-04-13T12:56:24.336417Z",
     "iopub.status.busy": "2022-04-13T12:56:24.335283Z",
     "iopub.status.idle": "2022-04-13T12:56:24.341552Z",
     "shell.execute_reply": "2022-04-13T12:56:24.342078Z",
     "shell.execute_reply.started": "2022-04-13T12:50:05.332745Z"
    },
    "papermill": {
     "duration": 0.035127,
     "end_time": "2022-04-13T12:56:24.342252",
     "exception": false,
     "start_time": "2022-04-13T12:56:24.307125",
     "status": "completed"
    },
    "tags": []
   },
   "outputs": [
    {
     "data": {
      "application/javascript": [
       "parent.postMessage({\"jupyterEvent\": \"custom.exercise_interaction\", \"data\": {\"outcomeType\": 1, \"valueTowardsCompletion\": 0.25, \"interactionType\": 1, \"questionType\": 1, \"questionId\": \"1_PointsDtype\", \"learnToolsVersion\": \"0.3.4\", \"failureMessage\": \"\", \"exceptionClass\": \"\", \"trace\": \"\"}}, \"*\")"
      ],
      "text/plain": [
       "<IPython.core.display.Javascript object>"
      ]
     },
     "metadata": {},
     "output_type": "display_data"
    },
    {
     "data": {
      "text/markdown": [
       "<span style=\"color:#33cc33\">Correct</span>"
      ],
      "text/plain": [
       "Correct"
      ]
     },
     "metadata": {},
     "output_type": "display_data"
    }
   ],
   "source": [
    "# Your code here\n",
    "dtype = reviews.points.dtype\n",
    "\n",
    "# Check your answer\n",
    "q1.check()"
   ]
  },
  {
   "cell_type": "code",
   "execution_count": 3,
   "id": "4bd0f3b0",
   "metadata": {
    "execution": {
     "iopub.execute_input": "2022-04-13T12:56:24.382861Z",
     "iopub.status.busy": "2022-04-13T12:56:24.381652Z",
     "iopub.status.idle": "2022-04-13T12:56:24.386073Z",
     "shell.execute_reply": "2022-04-13T12:56:24.385472Z"
    },
    "papermill": {
     "duration": 0.025766,
     "end_time": "2022-04-13T12:56:24.386210",
     "exception": false,
     "start_time": "2022-04-13T12:56:24.360444",
     "status": "completed"
    },
    "tags": []
   },
   "outputs": [],
   "source": [
    "#q1.hint()\n",
    "#q1.solution()"
   ]
  },
  {
   "cell_type": "markdown",
   "id": "4c7d87a3",
   "metadata": {
    "papermill": {
     "duration": 0.018769,
     "end_time": "2022-04-13T12:56:24.423950",
     "exception": false,
     "start_time": "2022-04-13T12:56:24.405181",
     "status": "completed"
    },
    "tags": []
   },
   "source": [
    "## 2. \n",
    "Create a Series from entries in the `points` column, but convert the entries to strings. Hint: strings are `str` in native Python."
   ]
  },
  {
   "cell_type": "code",
   "execution_count": 4,
   "id": "e2cf4ef2",
   "metadata": {
    "execution": {
     "iopub.execute_input": "2022-04-13T12:56:24.464499Z",
     "iopub.status.busy": "2022-04-13T12:56:24.463829Z",
     "iopub.status.idle": "2022-04-13T12:56:24.600858Z",
     "shell.execute_reply": "2022-04-13T12:56:24.601462Z",
     "shell.execute_reply.started": "2022-04-13T12:50:42.336109Z"
    },
    "papermill": {
     "duration": 0.159215,
     "end_time": "2022-04-13T12:56:24.601664",
     "exception": false,
     "start_time": "2022-04-13T12:56:24.442449",
     "status": "completed"
    },
    "tags": []
   },
   "outputs": [
    {
     "data": {
      "application/javascript": [
       "parent.postMessage({\"jupyterEvent\": \"custom.exercise_interaction\", \"data\": {\"outcomeType\": 1, \"valueTowardsCompletion\": 0.25, \"interactionType\": 1, \"questionType\": 1, \"questionId\": \"2_StrPoints\", \"learnToolsVersion\": \"0.3.4\", \"failureMessage\": \"\", \"exceptionClass\": \"\", \"trace\": \"\"}}, \"*\")"
      ],
      "text/plain": [
       "<IPython.core.display.Javascript object>"
      ]
     },
     "metadata": {},
     "output_type": "display_data"
    },
    {
     "data": {
      "text/markdown": [
       "<span style=\"color:#33cc33\">Correct</span>"
      ],
      "text/plain": [
       "Correct"
      ]
     },
     "metadata": {},
     "output_type": "display_data"
    }
   ],
   "source": [
    "point_strings = reviews.points.astype('str')\n",
    "\n",
    "# Check your answer\n",
    "q2.check()"
   ]
  },
  {
   "cell_type": "code",
   "execution_count": 5,
   "id": "a029fe11",
   "metadata": {
    "execution": {
     "iopub.execute_input": "2022-04-13T12:56:24.646389Z",
     "iopub.status.busy": "2022-04-13T12:56:24.645642Z",
     "iopub.status.idle": "2022-04-13T12:56:24.648642Z",
     "shell.execute_reply": "2022-04-13T12:56:24.647952Z",
     "shell.execute_reply.started": "2022-04-13T12:50:48.431720Z"
    },
    "papermill": {
     "duration": 0.026436,
     "end_time": "2022-04-13T12:56:24.648785",
     "exception": false,
     "start_time": "2022-04-13T12:56:24.622349",
     "status": "completed"
    },
    "tags": []
   },
   "outputs": [],
   "source": [
    "#q2.hint()\n",
    "#q2.solution()"
   ]
  },
  {
   "cell_type": "markdown",
   "id": "fcb637c2",
   "metadata": {
    "papermill": {
     "duration": 0.019546,
     "end_time": "2022-04-13T12:56:24.687972",
     "exception": false,
     "start_time": "2022-04-13T12:56:24.668426",
     "status": "completed"
    },
    "tags": []
   },
   "source": [
    "## 3.\n",
    "Sometimes the price column is null. How many reviews in the dataset are missing a price?"
   ]
  },
  {
   "cell_type": "code",
   "execution_count": 6,
   "id": "e08f591d",
   "metadata": {
    "execution": {
     "iopub.execute_input": "2022-04-13T12:56:24.731431Z",
     "iopub.status.busy": "2022-04-13T12:56:24.730776Z",
     "iopub.status.idle": "2022-04-13T12:56:24.739448Z",
     "shell.execute_reply": "2022-04-13T12:56:24.738865Z",
     "shell.execute_reply.started": "2022-04-13T12:52:57.769763Z"
    },
    "papermill": {
     "duration": 0.03185,
     "end_time": "2022-04-13T12:56:24.739622",
     "exception": false,
     "start_time": "2022-04-13T12:56:24.707772",
     "status": "completed"
    },
    "tags": []
   },
   "outputs": [
    {
     "data": {
      "application/javascript": [
       "parent.postMessage({\"jupyterEvent\": \"custom.exercise_interaction\", \"data\": {\"outcomeType\": 1, \"valueTowardsCompletion\": 0.25, \"interactionType\": 1, \"questionType\": 1, \"questionId\": \"3_CountMissingPrices\", \"learnToolsVersion\": \"0.3.4\", \"failureMessage\": \"\", \"exceptionClass\": \"\", \"trace\": \"\"}}, \"*\")"
      ],
      "text/plain": [
       "<IPython.core.display.Javascript object>"
      ]
     },
     "metadata": {},
     "output_type": "display_data"
    },
    {
     "data": {
      "text/markdown": [
       "<span style=\"color:#33cc33\">Correct</span>"
      ],
      "text/plain": [
       "Correct"
      ]
     },
     "metadata": {},
     "output_type": "display_data"
    }
   ],
   "source": [
    "n_missing_prices = reviews.price.isnull().sum()\n",
    "\n",
    "# Check your answer\n",
    "q3.check()"
   ]
  },
  {
   "cell_type": "code",
   "execution_count": 7,
   "id": "58059931",
   "metadata": {
    "execution": {
     "iopub.execute_input": "2022-04-13T12:56:24.785721Z",
     "iopub.status.busy": "2022-04-13T12:56:24.785052Z",
     "iopub.status.idle": "2022-04-13T12:56:24.788045Z",
     "shell.execute_reply": "2022-04-13T12:56:24.788599Z",
     "shell.execute_reply.started": "2022-04-13T12:53:03.081440Z"
    },
    "papermill": {
     "duration": 0.028202,
     "end_time": "2022-04-13T12:56:24.788768",
     "exception": false,
     "start_time": "2022-04-13T12:56:24.760566",
     "status": "completed"
    },
    "tags": []
   },
   "outputs": [],
   "source": [
    "#q3.hint()\n",
    "#q3.solution()"
   ]
  },
  {
   "cell_type": "markdown",
   "id": "c5958fbe",
   "metadata": {
    "papermill": {
     "duration": 0.020533,
     "end_time": "2022-04-13T12:56:24.830297",
     "exception": false,
     "start_time": "2022-04-13T12:56:24.809764",
     "status": "completed"
    },
    "tags": []
   },
   "source": [
    "## 4.\n",
    "What are the most common wine-producing regions? Create a Series counting the number of times each value occurs in the `region_1` field. This field is often missing data, so replace missing values with `Unknown`. Sort in descending order.  Your output should look something like this:\n",
    "\n",
    "```\n",
    "Unknown                    21247\n",
    "Napa Valley                 4480\n",
    "                           ...  \n",
    "Bardolino Superiore            1\n",
    "Primitivo del Tarantino        1\n",
    "Name: region_1, Length: 1230, dtype: int64\n",
    "```"
   ]
  },
  {
   "cell_type": "code",
   "execution_count": 8,
   "id": "17bd49bf",
   "metadata": {
    "execution": {
     "iopub.execute_input": "2022-04-13T12:56:24.888153Z",
     "iopub.status.busy": "2022-04-13T12:56:24.887431Z",
     "iopub.status.idle": "2022-04-13T12:56:25.089947Z",
     "shell.execute_reply": "2022-04-13T12:56:25.090491Z",
     "shell.execute_reply.started": "2022-04-13T12:55:50.968390Z"
    },
    "papermill": {
     "duration": 0.239569,
     "end_time": "2022-04-13T12:56:25.090707",
     "exception": false,
     "start_time": "2022-04-13T12:56:24.851138",
     "status": "completed"
    },
    "tags": []
   },
   "outputs": [
    {
     "data": {
      "application/javascript": [
       "parent.postMessage({\"jupyterEvent\": \"custom.exercise_interaction\", \"data\": {\"outcomeType\": 1, \"valueTowardsCompletion\": 0.25, \"interactionType\": 1, \"questionType\": 2, \"questionId\": \"4_ReviewsPerRegion\", \"learnToolsVersion\": \"0.3.4\", \"failureMessage\": \"\", \"exceptionClass\": \"\", \"trace\": \"\"}}, \"*\")"
      ],
      "text/plain": [
       "<IPython.core.display.Javascript object>"
      ]
     },
     "metadata": {},
     "output_type": "display_data"
    },
    {
     "data": {
      "text/markdown": [
       "<span style=\"color:#33cc33\">Correct</span>"
      ],
      "text/plain": [
       "Correct"
      ]
     },
     "metadata": {},
     "output_type": "display_data"
    }
   ],
   "source": [
    "\n",
    "reviews_per_region = reviews.region_1.fillna(\"Unknown\").sort_values(ascending=False).value_counts()\n",
    "\n",
    "# Check your answer\n",
    "q4.check()"
   ]
  },
  {
   "cell_type": "code",
   "execution_count": 9,
   "id": "321d44a7",
   "metadata": {
    "execution": {
     "iopub.execute_input": "2022-04-13T12:56:25.139359Z",
     "iopub.status.busy": "2022-04-13T12:56:25.138698Z",
     "iopub.status.idle": "2022-04-13T12:56:25.142186Z",
     "shell.execute_reply": "2022-04-13T12:56:25.141638Z",
     "shell.execute_reply.started": "2022-04-13T12:55:56.749633Z"
    },
    "papermill": {
     "duration": 0.029067,
     "end_time": "2022-04-13T12:56:25.142321",
     "exception": false,
     "start_time": "2022-04-13T12:56:25.113254",
     "status": "completed"
    },
    "tags": []
   },
   "outputs": [],
   "source": [
    "#q4.hint()\n",
    "#q4.solution()"
   ]
  },
  {
   "cell_type": "markdown",
   "id": "62b2ed97",
   "metadata": {
    "papermill": {
     "duration": 0.022193,
     "end_time": "2022-04-13T12:56:25.186660",
     "exception": false,
     "start_time": "2022-04-13T12:56:25.164467",
     "status": "completed"
    },
    "tags": []
   },
   "source": [
    "# Keep going\n",
    "\n",
    "Move on to **[renaming and combining](https://www.kaggle.com/residentmario/renaming-and-combining)**."
   ]
  },
  {
   "cell_type": "markdown",
   "id": "6e7ca9b4",
   "metadata": {
    "papermill": {
     "duration": 0.021876,
     "end_time": "2022-04-13T12:56:25.230669",
     "exception": false,
     "start_time": "2022-04-13T12:56:25.208793",
     "status": "completed"
    },
    "tags": []
   },
   "source": [
    "---\n",
    "\n",
    "\n",
    "\n",
    "\n",
    "*Have questions or comments? Visit the [course discussion forum](https://www.kaggle.com/learn/pandas/discussion) to chat with other learners.*"
   ]
  }
 ],
 "metadata": {
  "kernelspec": {
   "display_name": "Python 3",
   "language": "python",
   "name": "python3"
  },
  "language_info": {
   "codemirror_mode": {
    "name": "ipython",
    "version": 3
   },
   "file_extension": ".py",
   "mimetype": "text/x-python",
   "name": "python",
   "nbconvert_exporter": "python",
   "pygments_lexer": "ipython3",
   "version": "3.7.12"
  },
  "papermill": {
   "default_parameters": {},
   "duration": 14.001647,
   "end_time": "2022-04-13T12:56:25.862933",
   "environment_variables": {},
   "exception": null,
   "input_path": "__notebook__.ipynb",
   "output_path": "__notebook__.ipynb",
   "parameters": {},
   "start_time": "2022-04-13T12:56:11.861286",
   "version": "2.3.3"
  }
 },
 "nbformat": 4,
 "nbformat_minor": 5
}
