{
 "cells": [
  {
   "cell_type": "markdown",
   "id": "90a92c3a",
   "metadata": {
    "papermill": {
     "duration": 0.020095,
     "end_time": "2022-04-13T13:15:51.126601",
     "exception": false,
     "start_time": "2022-04-13T13:15:51.106506",
     "status": "completed"
    },
    "tags": []
   },
   "source": [
    "**This notebook is an exercise in the [Pandas](https://www.kaggle.com/learn/pandas) course.  You can reference the tutorial at [this link](https://www.kaggle.com/residentmario/renaming-and-combining).**\n",
    "\n",
    "---\n"
   ]
  },
  {
   "cell_type": "markdown",
   "id": "f5dc848d",
   "metadata": {
    "papermill": {
     "duration": 0.019504,
     "end_time": "2022-04-13T13:15:51.165023",
     "exception": false,
     "start_time": "2022-04-13T13:15:51.145519",
     "status": "completed"
    },
    "tags": []
   },
   "source": [
    "# Introduction\n",
    "\n",
    "Run the following cell to load your data and some utility functions."
   ]
  },
  {
   "cell_type": "code",
   "execution_count": 1,
   "id": "ad2ee8a5",
   "metadata": {
    "execution": {
     "iopub.execute_input": "2022-04-13T13:15:51.208365Z",
     "iopub.status.busy": "2022-04-13T13:15:51.207171Z",
     "iopub.status.idle": "2022-04-13T13:15:56.145801Z",
     "shell.execute_reply": "2022-04-13T13:15:56.146554Z",
     "shell.execute_reply.started": "2022-04-13T13:10:26.605229Z"
    },
    "papermill": {
     "duration": 4.962834,
     "end_time": "2022-04-13T13:15:56.146945",
     "exception": false,
     "start_time": "2022-04-13T13:15:51.184111",
     "status": "completed"
    },
    "tags": []
   },
   "outputs": [
    {
     "name": "stdout",
     "output_type": "stream",
     "text": [
      "Setup complete.\n"
     ]
    }
   ],
   "source": [
    "import pandas as pd\n",
    "\n",
    "reviews = pd.read_csv(\"../input/wine-reviews/winemag-data-130k-v2.csv\", index_col=0)\n",
    "\n",
    "from learntools.core import binder; binder.bind(globals())\n",
    "from learntools.pandas.renaming_and_combining import *\n",
    "print(\"Setup complete.\")"
   ]
  },
  {
   "cell_type": "markdown",
   "id": "3639417c",
   "metadata": {
    "papermill": {
     "duration": 0.019296,
     "end_time": "2022-04-13T13:15:56.187409",
     "exception": false,
     "start_time": "2022-04-13T13:15:56.168113",
     "status": "completed"
    },
    "tags": []
   },
   "source": [
    "# Exercises\n",
    "\n",
    "View the first several lines of your data by running the cell below:"
   ]
  },
  {
   "cell_type": "code",
   "execution_count": 2,
   "id": "361df6e4",
   "metadata": {
    "execution": {
     "iopub.execute_input": "2022-04-13T13:15:56.233952Z",
     "iopub.status.busy": "2022-04-13T13:15:56.233218Z",
     "iopub.status.idle": "2022-04-13T13:15:56.252526Z",
     "shell.execute_reply": "2022-04-13T13:15:56.253027Z",
     "shell.execute_reply.started": "2022-04-13T13:11:39.206333Z"
    },
    "papermill": {
     "duration": 0.046441,
     "end_time": "2022-04-13T13:15:56.253198",
     "exception": false,
     "start_time": "2022-04-13T13:15:56.206757",
     "status": "completed"
    },
    "tags": []
   },
   "outputs": [
    {
     "data": {
      "text/html": [
       "<div>\n",
       "<style scoped>\n",
       "    .dataframe tbody tr th:only-of-type {\n",
       "        vertical-align: middle;\n",
       "    }\n",
       "\n",
       "    .dataframe tbody tr th {\n",
       "        vertical-align: top;\n",
       "    }\n",
       "\n",
       "    .dataframe thead th {\n",
       "        text-align: right;\n",
       "    }\n",
       "</style>\n",
       "<table border=\"1\" class=\"dataframe\">\n",
       "  <thead>\n",
       "    <tr style=\"text-align: right;\">\n",
       "      <th></th>\n",
       "      <th>country</th>\n",
       "      <th>description</th>\n",
       "      <th>designation</th>\n",
       "      <th>points</th>\n",
       "      <th>price</th>\n",
       "      <th>province</th>\n",
       "      <th>region_1</th>\n",
       "      <th>region_2</th>\n",
       "      <th>taster_name</th>\n",
       "      <th>taster_twitter_handle</th>\n",
       "      <th>title</th>\n",
       "      <th>variety</th>\n",
       "      <th>winery</th>\n",
       "    </tr>\n",
       "  </thead>\n",
       "  <tbody>\n",
       "    <tr>\n",
       "      <th>0</th>\n",
       "      <td>Italy</td>\n",
       "      <td>Aromas include tropical fruit, broom, brimston...</td>\n",
       "      <td>Vulkà Bianco</td>\n",
       "      <td>87</td>\n",
       "      <td>NaN</td>\n",
       "      <td>Sicily &amp; Sardinia</td>\n",
       "      <td>Etna</td>\n",
       "      <td>NaN</td>\n",
       "      <td>Kerin O’Keefe</td>\n",
       "      <td>@kerinokeefe</td>\n",
       "      <td>Nicosia 2013 Vulkà Bianco  (Etna)</td>\n",
       "      <td>White Blend</td>\n",
       "      <td>Nicosia</td>\n",
       "    </tr>\n",
       "    <tr>\n",
       "      <th>1</th>\n",
       "      <td>Portugal</td>\n",
       "      <td>This is ripe and fruity, a wine that is smooth...</td>\n",
       "      <td>Avidagos</td>\n",
       "      <td>87</td>\n",
       "      <td>15.0</td>\n",
       "      <td>Douro</td>\n",
       "      <td>NaN</td>\n",
       "      <td>NaN</td>\n",
       "      <td>Roger Voss</td>\n",
       "      <td>@vossroger</td>\n",
       "      <td>Quinta dos Avidagos 2011 Avidagos Red (Douro)</td>\n",
       "      <td>Portuguese Red</td>\n",
       "      <td>Quinta dos Avidagos</td>\n",
       "    </tr>\n",
       "    <tr>\n",
       "      <th>2</th>\n",
       "      <td>US</td>\n",
       "      <td>Tart and snappy, the flavors of lime flesh and...</td>\n",
       "      <td>NaN</td>\n",
       "      <td>87</td>\n",
       "      <td>14.0</td>\n",
       "      <td>Oregon</td>\n",
       "      <td>Willamette Valley</td>\n",
       "      <td>Willamette Valley</td>\n",
       "      <td>Paul Gregutt</td>\n",
       "      <td>@paulgwine</td>\n",
       "      <td>Rainstorm 2013 Pinot Gris (Willamette Valley)</td>\n",
       "      <td>Pinot Gris</td>\n",
       "      <td>Rainstorm</td>\n",
       "    </tr>\n",
       "    <tr>\n",
       "      <th>3</th>\n",
       "      <td>US</td>\n",
       "      <td>Pineapple rind, lemon pith and orange blossom ...</td>\n",
       "      <td>Reserve Late Harvest</td>\n",
       "      <td>87</td>\n",
       "      <td>13.0</td>\n",
       "      <td>Michigan</td>\n",
       "      <td>Lake Michigan Shore</td>\n",
       "      <td>NaN</td>\n",
       "      <td>Alexander Peartree</td>\n",
       "      <td>NaN</td>\n",
       "      <td>St. Julian 2013 Reserve Late Harvest Riesling ...</td>\n",
       "      <td>Riesling</td>\n",
       "      <td>St. Julian</td>\n",
       "    </tr>\n",
       "    <tr>\n",
       "      <th>4</th>\n",
       "      <td>US</td>\n",
       "      <td>Much like the regular bottling from 2012, this...</td>\n",
       "      <td>Vintner's Reserve Wild Child Block</td>\n",
       "      <td>87</td>\n",
       "      <td>65.0</td>\n",
       "      <td>Oregon</td>\n",
       "      <td>Willamette Valley</td>\n",
       "      <td>Willamette Valley</td>\n",
       "      <td>Paul Gregutt</td>\n",
       "      <td>@paulgwine</td>\n",
       "      <td>Sweet Cheeks 2012 Vintner's Reserve Wild Child...</td>\n",
       "      <td>Pinot Noir</td>\n",
       "      <td>Sweet Cheeks</td>\n",
       "    </tr>\n",
       "  </tbody>\n",
       "</table>\n",
       "</div>"
      ],
      "text/plain": [
       "    country                                        description  \\\n",
       "0     Italy  Aromas include tropical fruit, broom, brimston...   \n",
       "1  Portugal  This is ripe and fruity, a wine that is smooth...   \n",
       "2        US  Tart and snappy, the flavors of lime flesh and...   \n",
       "3        US  Pineapple rind, lemon pith and orange blossom ...   \n",
       "4        US  Much like the regular bottling from 2012, this...   \n",
       "\n",
       "                          designation  points  price           province  \\\n",
       "0                        Vulkà Bianco      87    NaN  Sicily & Sardinia   \n",
       "1                            Avidagos      87   15.0              Douro   \n",
       "2                                 NaN      87   14.0             Oregon   \n",
       "3                Reserve Late Harvest      87   13.0           Michigan   \n",
       "4  Vintner's Reserve Wild Child Block      87   65.0             Oregon   \n",
       "\n",
       "              region_1           region_2         taster_name  \\\n",
       "0                 Etna                NaN       Kerin O’Keefe   \n",
       "1                  NaN                NaN          Roger Voss   \n",
       "2    Willamette Valley  Willamette Valley        Paul Gregutt   \n",
       "3  Lake Michigan Shore                NaN  Alexander Peartree   \n",
       "4    Willamette Valley  Willamette Valley        Paul Gregutt   \n",
       "\n",
       "  taster_twitter_handle                                              title  \\\n",
       "0          @kerinokeefe                  Nicosia 2013 Vulkà Bianco  (Etna)   \n",
       "1            @vossroger      Quinta dos Avidagos 2011 Avidagos Red (Douro)   \n",
       "2           @paulgwine       Rainstorm 2013 Pinot Gris (Willamette Valley)   \n",
       "3                   NaN  St. Julian 2013 Reserve Late Harvest Riesling ...   \n",
       "4           @paulgwine   Sweet Cheeks 2012 Vintner's Reserve Wild Child...   \n",
       "\n",
       "          variety               winery  \n",
       "0     White Blend              Nicosia  \n",
       "1  Portuguese Red  Quinta dos Avidagos  \n",
       "2      Pinot Gris            Rainstorm  \n",
       "3        Riesling           St. Julian  \n",
       "4      Pinot Noir         Sweet Cheeks  "
      ]
     },
     "execution_count": 2,
     "metadata": {},
     "output_type": "execute_result"
    }
   ],
   "source": [
    "reviews.head()"
   ]
  },
  {
   "cell_type": "markdown",
   "id": "427e287f",
   "metadata": {
    "papermill": {
     "duration": 0.019712,
     "end_time": "2022-04-13T13:15:56.292877",
     "exception": false,
     "start_time": "2022-04-13T13:15:56.273165",
     "status": "completed"
    },
    "tags": []
   },
   "source": [
    "## 1.\n",
    "`region_1` and `region_2` are pretty uninformative names for locale columns in the dataset. Create a copy of `reviews` with these columns renamed to `region` and `locale`, respectively."
   ]
  },
  {
   "cell_type": "code",
   "execution_count": 3,
   "id": "ebcd98e2",
   "metadata": {
    "execution": {
     "iopub.execute_input": "2022-04-13T13:15:56.339131Z",
     "iopub.status.busy": "2022-04-13T13:15:56.338057Z",
     "iopub.status.idle": "2022-04-13T13:15:56.368464Z",
     "shell.execute_reply": "2022-04-13T13:15:56.369079Z",
     "shell.execute_reply.started": "2022-04-13T13:12:45.624516Z"
    },
    "papermill": {
     "duration": 0.0565,
     "end_time": "2022-04-13T13:15:56.369252",
     "exception": false,
     "start_time": "2022-04-13T13:15:56.312752",
     "status": "completed"
    },
    "tags": []
   },
   "outputs": [
    {
     "data": {
      "application/javascript": [
       "parent.postMessage({\"jupyterEvent\": \"custom.exercise_interaction\", \"data\": {\"outcomeType\": 1, \"valueTowardsCompletion\": 0.25, \"interactionType\": 1, \"questionType\": 1, \"questionId\": \"1_RenameCols\", \"learnToolsVersion\": \"0.3.4\", \"failureMessage\": \"\", \"exceptionClass\": \"\", \"trace\": \"\"}}, \"*\")"
      ],
      "text/plain": [
       "<IPython.core.display.Javascript object>"
      ]
     },
     "metadata": {},
     "output_type": "display_data"
    },
    {
     "data": {
      "text/markdown": [
       "<span style=\"color:#33cc33\">Correct</span>"
      ],
      "text/plain": [
       "Correct"
      ]
     },
     "metadata": {},
     "output_type": "display_data"
    }
   ],
   "source": [
    "# Your code here\n",
    "renamed = reviews.rename(columns={'region_1': 'region', 'region_2': 'locale'})\n",
    "\n",
    "# Check your answer\n",
    "q1.check()"
   ]
  },
  {
   "cell_type": "code",
   "execution_count": 4,
   "id": "caca65ae",
   "metadata": {
    "execution": {
     "iopub.execute_input": "2022-04-13T13:15:56.416005Z",
     "iopub.status.busy": "2022-04-13T13:15:56.415373Z",
     "iopub.status.idle": "2022-04-13T13:15:56.417921Z",
     "shell.execute_reply": "2022-04-13T13:15:56.417420Z"
    },
    "papermill": {
     "duration": 0.027525,
     "end_time": "2022-04-13T13:15:56.418058",
     "exception": false,
     "start_time": "2022-04-13T13:15:56.390533",
     "status": "completed"
    },
    "tags": []
   },
   "outputs": [],
   "source": [
    "#q1.hint()\n",
    "#q1.solution()"
   ]
  },
  {
   "cell_type": "markdown",
   "id": "d9944ce8",
   "metadata": {
    "papermill": {
     "duration": 0.021026,
     "end_time": "2022-04-13T13:15:56.460464",
     "exception": false,
     "start_time": "2022-04-13T13:15:56.439438",
     "status": "completed"
    },
    "tags": []
   },
   "source": [
    "## 2.\n",
    "Set the index name in the dataset to `wines`."
   ]
  },
  {
   "cell_type": "code",
   "execution_count": 5,
   "id": "6272217c",
   "metadata": {
    "execution": {
     "iopub.execute_input": "2022-04-13T13:15:56.507815Z",
     "iopub.status.busy": "2022-04-13T13:15:56.507156Z",
     "iopub.status.idle": "2022-04-13T13:15:56.535518Z",
     "shell.execute_reply": "2022-04-13T13:15:56.534920Z",
     "shell.execute_reply.started": "2022-04-13T13:13:48.406833Z"
    },
    "papermill": {
     "duration": 0.053984,
     "end_time": "2022-04-13T13:15:56.535672",
     "exception": false,
     "start_time": "2022-04-13T13:15:56.481688",
     "status": "completed"
    },
    "tags": []
   },
   "outputs": [
    {
     "data": {
      "application/javascript": [
       "parent.postMessage({\"jupyterEvent\": \"custom.exercise_interaction\", \"data\": {\"outcomeType\": 1, \"valueTowardsCompletion\": 0.25, \"interactionType\": 1, \"questionType\": 1, \"questionId\": \"2_RenameIndex\", \"learnToolsVersion\": \"0.3.4\", \"failureMessage\": \"\", \"exceptionClass\": \"\", \"trace\": \"\"}}, \"*\")"
      ],
      "text/plain": [
       "<IPython.core.display.Javascript object>"
      ]
     },
     "metadata": {},
     "output_type": "display_data"
    },
    {
     "data": {
      "text/markdown": [
       "<span style=\"color:#33cc33\">Correct</span>"
      ],
      "text/plain": [
       "Correct"
      ]
     },
     "metadata": {},
     "output_type": "display_data"
    }
   ],
   "source": [
    "reindexed = reviews.rename_axis(\"wines\", axis='rows')\n",
    "\n",
    "# Check your answer\n",
    "q2.check()"
   ]
  },
  {
   "cell_type": "code",
   "execution_count": 6,
   "id": "cf7aca2b",
   "metadata": {
    "execution": {
     "iopub.execute_input": "2022-04-13T13:15:56.584676Z",
     "iopub.status.busy": "2022-04-13T13:15:56.583400Z",
     "iopub.status.idle": "2022-04-13T13:15:56.587164Z",
     "shell.execute_reply": "2022-04-13T13:15:56.587697Z",
     "shell.execute_reply.started": "2022-04-13T13:13:52.498750Z"
    },
    "papermill": {
     "duration": 0.029404,
     "end_time": "2022-04-13T13:15:56.587881",
     "exception": false,
     "start_time": "2022-04-13T13:15:56.558477",
     "status": "completed"
    },
    "tags": []
   },
   "outputs": [],
   "source": [
    "#q2.hint()\n",
    "#q2.solution()"
   ]
  },
  {
   "cell_type": "markdown",
   "id": "2aeeb29e",
   "metadata": {
    "papermill": {
     "duration": 0.022187,
     "end_time": "2022-04-13T13:15:56.632785",
     "exception": false,
     "start_time": "2022-04-13T13:15:56.610598",
     "status": "completed"
    },
    "tags": []
   },
   "source": [
    "## 3.\n",
    "The [Things on Reddit](https://www.kaggle.com/residentmario/things-on-reddit/data) dataset includes product links from a selection of top-ranked forums (\"subreddits\") on reddit.com. Run the cell below to load a dataframe of products mentioned on the */r/gaming* subreddit and another dataframe for products mentioned on the *r//movies* subreddit."
   ]
  },
  {
   "cell_type": "code",
   "execution_count": 7,
   "id": "25933fea",
   "metadata": {
    "execution": {
     "iopub.execute_input": "2022-04-13T13:15:56.682987Z",
     "iopub.status.busy": "2022-04-13T13:15:56.681011Z",
     "iopub.status.idle": "2022-04-13T13:15:56.694599Z",
     "shell.execute_reply": "2022-04-13T13:15:56.695161Z",
     "shell.execute_reply.started": "2022-04-13T13:14:21.163642Z"
    },
    "papermill": {
     "duration": 0.039936,
     "end_time": "2022-04-13T13:15:56.695335",
     "exception": false,
     "start_time": "2022-04-13T13:15:56.655399",
     "status": "completed"
    },
    "tags": []
   },
   "outputs": [],
   "source": [
    "gaming_products = pd.read_csv(\"../input/things-on-reddit/top-things/top-things/reddits/g/gaming.csv\")\n",
    "gaming_products['subreddit'] = \"r/gaming\"\n",
    "movie_products = pd.read_csv(\"../input/things-on-reddit/top-things/top-things/reddits/m/movies.csv\")\n",
    "movie_products['subreddit'] = \"r/movies\""
   ]
  },
  {
   "cell_type": "markdown",
   "id": "7bb8249b",
   "metadata": {
    "papermill": {
     "duration": 0.022539,
     "end_time": "2022-04-13T13:15:56.740835",
     "exception": false,
     "start_time": "2022-04-13T13:15:56.718296",
     "status": "completed"
    },
    "tags": []
   },
   "source": [
    "Create a `DataFrame` of products mentioned on *either* subreddit."
   ]
  },
  {
   "cell_type": "code",
   "execution_count": 8,
   "id": "a4d39b33",
   "metadata": {
    "execution": {
     "iopub.execute_input": "2022-04-13T13:15:56.789735Z",
     "iopub.status.busy": "2022-04-13T13:15:56.789105Z",
     "iopub.status.idle": "2022-04-13T13:15:56.800820Z",
     "shell.execute_reply": "2022-04-13T13:15:56.801356Z",
     "shell.execute_reply.started": "2022-04-13T13:14:23.703045Z"
    },
    "papermill": {
     "duration": 0.037875,
     "end_time": "2022-04-13T13:15:56.801537",
     "exception": false,
     "start_time": "2022-04-13T13:15:56.763662",
     "status": "completed"
    },
    "tags": []
   },
   "outputs": [
    {
     "data": {
      "application/javascript": [
       "parent.postMessage({\"jupyterEvent\": \"custom.exercise_interaction\", \"data\": {\"outcomeType\": 1, \"valueTowardsCompletion\": 0.25, \"interactionType\": 1, \"questionType\": 2, \"questionId\": \"3_ConcatReddit\", \"learnToolsVersion\": \"0.3.4\", \"failureMessage\": \"\", \"exceptionClass\": \"\", \"trace\": \"\"}}, \"*\")"
      ],
      "text/plain": [
       "<IPython.core.display.Javascript object>"
      ]
     },
     "metadata": {},
     "output_type": "display_data"
    },
    {
     "data": {
      "text/markdown": [
       "<span style=\"color:#33cc33\">Correct</span>"
      ],
      "text/plain": [
       "Correct"
      ]
     },
     "metadata": {},
     "output_type": "display_data"
    }
   ],
   "source": [
    "combined_products = pd.concat([gaming_products,movie_products ])\n",
    "\n",
    "# Check your answer\n",
    "q3.check()"
   ]
  },
  {
   "cell_type": "code",
   "execution_count": 9,
   "id": "f8ac91c6",
   "metadata": {
    "execution": {
     "iopub.execute_input": "2022-04-13T13:15:56.852610Z",
     "iopub.status.busy": "2022-04-13T13:15:56.852016Z",
     "iopub.status.idle": "2022-04-13T13:15:56.854765Z",
     "shell.execute_reply": "2022-04-13T13:15:56.855241Z"
    },
    "papermill": {
     "duration": 0.029537,
     "end_time": "2022-04-13T13:15:56.855410",
     "exception": false,
     "start_time": "2022-04-13T13:15:56.825873",
     "status": "completed"
    },
    "tags": []
   },
   "outputs": [],
   "source": [
    "#q3.hint()\n",
    "#q3.solution()"
   ]
  },
  {
   "cell_type": "markdown",
   "id": "77bf8d93",
   "metadata": {
    "papermill": {
     "duration": 0.023965,
     "end_time": "2022-04-13T13:15:56.903528",
     "exception": false,
     "start_time": "2022-04-13T13:15:56.879563",
     "status": "completed"
    },
    "tags": []
   },
   "source": [
    "## 4.\n",
    "The [Powerlifting Database](https://www.kaggle.com/open-powerlifting/powerlifting-database) dataset on Kaggle includes one CSV table for powerlifting meets and a separate one for powerlifting competitors. Run the cell below to load these datasets into dataframes:"
   ]
  },
  {
   "cell_type": "code",
   "execution_count": 10,
   "id": "f50b05ea",
   "metadata": {
    "execution": {
     "iopub.execute_input": "2022-04-13T13:15:56.956569Z",
     "iopub.status.busy": "2022-04-13T13:15:56.955949Z",
     "iopub.status.idle": "2022-04-13T13:15:57.796952Z",
     "shell.execute_reply": "2022-04-13T13:15:57.797482Z",
     "shell.execute_reply.started": "2022-04-13T13:15:18.486004Z"
    },
    "papermill": {
     "duration": 0.868929,
     "end_time": "2022-04-13T13:15:57.797701",
     "exception": false,
     "start_time": "2022-04-13T13:15:56.928772",
     "status": "completed"
    },
    "tags": []
   },
   "outputs": [],
   "source": [
    "powerlifting_meets = pd.read_csv(\"../input/powerlifting-database/meets.csv\")\n",
    "powerlifting_competitors = pd.read_csv(\"../input/powerlifting-database/openpowerlifting.csv\")"
   ]
  },
  {
   "cell_type": "markdown",
   "id": "9625437e",
   "metadata": {
    "papermill": {
     "duration": 0.023666,
     "end_time": "2022-04-13T13:15:57.846132",
     "exception": false,
     "start_time": "2022-04-13T13:15:57.822466",
     "status": "completed"
    },
    "tags": []
   },
   "source": [
    "Both tables include references to a `MeetID`, a unique key for each meet (competition) included in the database. Using this, generate a dataset combining the two tables into one."
   ]
  },
  {
   "cell_type": "code",
   "execution_count": 11,
   "id": "51a483ce",
   "metadata": {
    "execution": {
     "iopub.execute_input": "2022-04-13T13:15:57.907043Z",
     "iopub.status.busy": "2022-04-13T13:15:57.906406Z",
     "iopub.status.idle": "2022-04-13T13:15:58.951950Z",
     "shell.execute_reply": "2022-04-13T13:15:58.952414Z",
     "shell.execute_reply.started": "2022-04-13T13:15:21.918308Z"
    },
    "papermill": {
     "duration": 1.079379,
     "end_time": "2022-04-13T13:15:58.952584",
     "exception": false,
     "start_time": "2022-04-13T13:15:57.873205",
     "status": "completed"
    },
    "tags": []
   },
   "outputs": [
    {
     "data": {
      "application/javascript": [
       "parent.postMessage({\"jupyterEvent\": \"custom.exercise_interaction\", \"data\": {\"outcomeType\": 1, \"valueTowardsCompletion\": 0.25, \"interactionType\": 1, \"questionType\": 2, \"questionId\": \"4_JoinLifting\", \"learnToolsVersion\": \"0.3.4\", \"failureMessage\": \"\", \"exceptionClass\": \"\", \"trace\": \"\"}}, \"*\")"
      ],
      "text/plain": [
       "<IPython.core.display.Javascript object>"
      ]
     },
     "metadata": {},
     "output_type": "display_data"
    },
    {
     "data": {
      "text/markdown": [
       "<span style=\"color:#33cc33\">Correct</span>"
      ],
      "text/plain": [
       "Correct"
      ]
     },
     "metadata": {},
     "output_type": "display_data"
    }
   ],
   "source": [
    "powerlifting_combined = powerlifting_meets.set_index(\"MeetID\").join(powerlifting_competitors.set_index(\"MeetID\"))\n",
    "\n",
    "# Check your answer\n",
    "q4.check()"
   ]
  },
  {
   "cell_type": "code",
   "execution_count": 12,
   "id": "6cd71eb2",
   "metadata": {
    "execution": {
     "iopub.execute_input": "2022-04-13T13:15:59.008749Z",
     "iopub.status.busy": "2022-04-13T13:15:59.007150Z",
     "iopub.status.idle": "2022-04-13T13:15:59.010381Z",
     "shell.execute_reply": "2022-04-13T13:15:59.010848Z",
     "shell.execute_reply.started": "2022-04-13T13:15:25.741348Z"
    },
    "papermill": {
     "duration": 0.032009,
     "end_time": "2022-04-13T13:15:59.011032",
     "exception": false,
     "start_time": "2022-04-13T13:15:58.979023",
     "status": "completed"
    },
    "tags": []
   },
   "outputs": [],
   "source": [
    "#q4.hint()\n",
    "#q4.solution()"
   ]
  },
  {
   "cell_type": "markdown",
   "id": "492d013a",
   "metadata": {
    "papermill": {
     "duration": 0.024974,
     "end_time": "2022-04-13T13:15:59.061259",
     "exception": false,
     "start_time": "2022-04-13T13:15:59.036285",
     "status": "completed"
    },
    "tags": []
   },
   "source": [
    "# Congratulations!\n",
    "\n",
    "You've finished the Pandas micro-course.  Many data scientists feel efficiency with Pandas is the most useful and practical skill they have, because it allows you to progress quickly in any project you have.\n",
    "\n",
    "If you'd like to apply your new skills to examining geospatial data, you're encouraged to check out our **[Geospatial Analysis](https://www.kaggle.com/learn/geospatial-analysis)** micro-course.\n",
    "\n",
    "You can also take advantage of your Pandas skills by entering a **[Kaggle Competition](https://www.kaggle.com/competitions)** or by answering a question you find interesting using **[Kaggle Datasets](https://www.kaggle.com/datasets)**."
   ]
  },
  {
   "cell_type": "markdown",
   "id": "31aee388",
   "metadata": {
    "papermill": {
     "duration": 0.024798,
     "end_time": "2022-04-13T13:15:59.111332",
     "exception": false,
     "start_time": "2022-04-13T13:15:59.086534",
     "status": "completed"
    },
    "tags": []
   },
   "source": [
    "---\n",
    "\n",
    "\n",
    "\n",
    "\n",
    "*Have questions or comments? Visit the [course discussion forum](https://www.kaggle.com/learn/pandas/discussion) to chat with other learners.*"
   ]
  }
 ],
 "metadata": {
  "kernelspec": {
   "display_name": "Python 3",
   "language": "python",
   "name": "python3"
  },
  "language_info": {
   "codemirror_mode": {
    "name": "ipython",
    "version": 3
   },
   "file_extension": ".py",
   "mimetype": "text/x-python",
   "name": "python",
   "nbconvert_exporter": "python",
   "pygments_lexer": "ipython3",
   "version": "3.7.12"
  },
  "papermill": {
   "default_parameters": {},
   "duration": 18.512548,
   "end_time": "2022-04-13T13:15:59.846170",
   "environment_variables": {},
   "exception": null,
   "input_path": "__notebook__.ipynb",
   "output_path": "__notebook__.ipynb",
   "parameters": {},
   "start_time": "2022-04-13T13:15:41.333622",
   "version": "2.3.3"
  }
 },
 "nbformat": 4,
 "nbformat_minor": 5
}
