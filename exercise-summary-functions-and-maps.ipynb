{
 "cells": [
  {
   "cell_type": "markdown",
   "id": "973dce83",
   "metadata": {
    "papermill": {
     "duration": 0.01844,
     "end_time": "2022-04-12T21:08:44.777746",
     "exception": false,
     "start_time": "2022-04-12T21:08:44.759306",
     "status": "completed"
    },
    "tags": []
   },
   "source": [
    "**This notebook is an exercise in the [Pandas](https://www.kaggle.com/learn/pandas) course.  You can reference the tutorial at [this link](https://www.kaggle.com/residentmario/summary-functions-and-maps).**\n",
    "\n",
    "---\n"
   ]
  },
  {
   "cell_type": "markdown",
   "id": "93276fc4",
   "metadata": {
    "papermill": {
     "duration": 0.01608,
     "end_time": "2022-04-12T21:08:44.812864",
     "exception": false,
     "start_time": "2022-04-12T21:08:44.796784",
     "status": "completed"
    },
    "tags": []
   },
   "source": [
    "# Introduction\n",
    "\n",
    "Now you are ready to get a deeper understanding of your data.\n",
    "\n",
    "Run the following cell to load your data and some utility functions (including code to check your answers)."
   ]
  },
  {
   "cell_type": "code",
   "execution_count": 1,
   "id": "41fe0ddc",
   "metadata": {
    "execution": {
     "iopub.execute_input": "2022-04-12T21:08:44.847502Z",
     "iopub.status.busy": "2022-04-12T21:08:44.846414Z",
     "iopub.status.idle": "2022-04-12T21:08:51.180616Z",
     "shell.execute_reply": "2022-04-12T21:08:51.181110Z",
     "shell.execute_reply.started": "2022-04-12T21:08:01.404627Z"
    },
    "papermill": {
     "duration": 6.353292,
     "end_time": "2022-04-12T21:08:51.181383",
     "exception": false,
     "start_time": "2022-04-12T21:08:44.828091",
     "status": "completed"
    },
    "tags": []
   },
   "outputs": [
    {
     "name": "stdout",
     "output_type": "stream",
     "text": [
      "Setup complete.\n"
     ]
    },
    {
     "data": {
      "text/html": [
       "<div>\n",
       "<style scoped>\n",
       "    .dataframe tbody tr th:only-of-type {\n",
       "        vertical-align: middle;\n",
       "    }\n",
       "\n",
       "    .dataframe tbody tr th {\n",
       "        vertical-align: top;\n",
       "    }\n",
       "\n",
       "    .dataframe thead th {\n",
       "        text-align: right;\n",
       "    }\n",
       "</style>\n",
       "<table border=\"1\" class=\"dataframe\">\n",
       "  <thead>\n",
       "    <tr style=\"text-align: right;\">\n",
       "      <th></th>\n",
       "      <th>country</th>\n",
       "      <th>description</th>\n",
       "      <th>designation</th>\n",
       "      <th>points</th>\n",
       "      <th>price</th>\n",
       "      <th>province</th>\n",
       "      <th>region_1</th>\n",
       "      <th>region_2</th>\n",
       "      <th>taster_name</th>\n",
       "      <th>taster_twitter_handle</th>\n",
       "      <th>title</th>\n",
       "      <th>variety</th>\n",
       "      <th>winery</th>\n",
       "    </tr>\n",
       "  </thead>\n",
       "  <tbody>\n",
       "    <tr>\n",
       "      <th>0</th>\n",
       "      <td>Italy</td>\n",
       "      <td>Aromas include tropical fruit, broom, brimston...</td>\n",
       "      <td>Vulkà Bianco</td>\n",
       "      <td>87</td>\n",
       "      <td>NaN</td>\n",
       "      <td>Sicily &amp; Sardinia</td>\n",
       "      <td>Etna</td>\n",
       "      <td>NaN</td>\n",
       "      <td>Kerin O’Keefe</td>\n",
       "      <td>@kerinokeefe</td>\n",
       "      <td>Nicosia 2013 Vulkà Bianco  (Etna)</td>\n",
       "      <td>White Blend</td>\n",
       "      <td>Nicosia</td>\n",
       "    </tr>\n",
       "    <tr>\n",
       "      <th>1</th>\n",
       "      <td>Portugal</td>\n",
       "      <td>This is ripe and fruity, a wine that is smooth...</td>\n",
       "      <td>Avidagos</td>\n",
       "      <td>87</td>\n",
       "      <td>15.0</td>\n",
       "      <td>Douro</td>\n",
       "      <td>NaN</td>\n",
       "      <td>NaN</td>\n",
       "      <td>Roger Voss</td>\n",
       "      <td>@vossroger</td>\n",
       "      <td>Quinta dos Avidagos 2011 Avidagos Red (Douro)</td>\n",
       "      <td>Portuguese Red</td>\n",
       "      <td>Quinta dos Avidagos</td>\n",
       "    </tr>\n",
       "    <tr>\n",
       "      <th>2</th>\n",
       "      <td>US</td>\n",
       "      <td>Tart and snappy, the flavors of lime flesh and...</td>\n",
       "      <td>NaN</td>\n",
       "      <td>87</td>\n",
       "      <td>14.0</td>\n",
       "      <td>Oregon</td>\n",
       "      <td>Willamette Valley</td>\n",
       "      <td>Willamette Valley</td>\n",
       "      <td>Paul Gregutt</td>\n",
       "      <td>@paulgwine</td>\n",
       "      <td>Rainstorm 2013 Pinot Gris (Willamette Valley)</td>\n",
       "      <td>Pinot Gris</td>\n",
       "      <td>Rainstorm</td>\n",
       "    </tr>\n",
       "    <tr>\n",
       "      <th>3</th>\n",
       "      <td>US</td>\n",
       "      <td>Pineapple rind, lemon pith and orange blossom ...</td>\n",
       "      <td>Reserve Late Harvest</td>\n",
       "      <td>87</td>\n",
       "      <td>13.0</td>\n",
       "      <td>Michigan</td>\n",
       "      <td>Lake Michigan Shore</td>\n",
       "      <td>NaN</td>\n",
       "      <td>Alexander Peartree</td>\n",
       "      <td>NaN</td>\n",
       "      <td>St. Julian 2013 Reserve Late Harvest Riesling ...</td>\n",
       "      <td>Riesling</td>\n",
       "      <td>St. Julian</td>\n",
       "    </tr>\n",
       "    <tr>\n",
       "      <th>4</th>\n",
       "      <td>US</td>\n",
       "      <td>Much like the regular bottling from 2012, this...</td>\n",
       "      <td>Vintner's Reserve Wild Child Block</td>\n",
       "      <td>87</td>\n",
       "      <td>65.0</td>\n",
       "      <td>Oregon</td>\n",
       "      <td>Willamette Valley</td>\n",
       "      <td>Willamette Valley</td>\n",
       "      <td>Paul Gregutt</td>\n",
       "      <td>@paulgwine</td>\n",
       "      <td>Sweet Cheeks 2012 Vintner's Reserve Wild Child...</td>\n",
       "      <td>Pinot Noir</td>\n",
       "      <td>Sweet Cheeks</td>\n",
       "    </tr>\n",
       "  </tbody>\n",
       "</table>\n",
       "</div>"
      ],
      "text/plain": [
       "    country                                        description  \\\n",
       "0     Italy  Aromas include tropical fruit, broom, brimston...   \n",
       "1  Portugal  This is ripe and fruity, a wine that is smooth...   \n",
       "2        US  Tart and snappy, the flavors of lime flesh and...   \n",
       "3        US  Pineapple rind, lemon pith and orange blossom ...   \n",
       "4        US  Much like the regular bottling from 2012, this...   \n",
       "\n",
       "                          designation  points  price           province  \\\n",
       "0                        Vulkà Bianco      87    NaN  Sicily & Sardinia   \n",
       "1                            Avidagos      87   15.0              Douro   \n",
       "2                                 NaN      87   14.0             Oregon   \n",
       "3                Reserve Late Harvest      87   13.0           Michigan   \n",
       "4  Vintner's Reserve Wild Child Block      87   65.0             Oregon   \n",
       "\n",
       "              region_1           region_2         taster_name  \\\n",
       "0                 Etna                NaN       Kerin O’Keefe   \n",
       "1                  NaN                NaN          Roger Voss   \n",
       "2    Willamette Valley  Willamette Valley        Paul Gregutt   \n",
       "3  Lake Michigan Shore                NaN  Alexander Peartree   \n",
       "4    Willamette Valley  Willamette Valley        Paul Gregutt   \n",
       "\n",
       "  taster_twitter_handle                                              title  \\\n",
       "0          @kerinokeefe                  Nicosia 2013 Vulkà Bianco  (Etna)   \n",
       "1            @vossroger      Quinta dos Avidagos 2011 Avidagos Red (Douro)   \n",
       "2           @paulgwine       Rainstorm 2013 Pinot Gris (Willamette Valley)   \n",
       "3                   NaN  St. Julian 2013 Reserve Late Harvest Riesling ...   \n",
       "4           @paulgwine   Sweet Cheeks 2012 Vintner's Reserve Wild Child...   \n",
       "\n",
       "          variety               winery  \n",
       "0     White Blend              Nicosia  \n",
       "1  Portuguese Red  Quinta dos Avidagos  \n",
       "2      Pinot Gris            Rainstorm  \n",
       "3        Riesling           St. Julian  \n",
       "4      Pinot Noir         Sweet Cheeks  "
      ]
     },
     "execution_count": 1,
     "metadata": {},
     "output_type": "execute_result"
    }
   ],
   "source": [
    "import pandas as pd\n",
    "pd.set_option(\"display.max_rows\", 5)\n",
    "reviews = pd.read_csv(\"../input/wine-reviews/winemag-data-130k-v2.csv\", index_col=0)\n",
    "\n",
    "from learntools.core import binder; binder.bind(globals())\n",
    "from learntools.pandas.summary_functions_and_maps import *\n",
    "print(\"Setup complete.\")\n",
    "\n",
    "reviews.head()"
   ]
  },
  {
   "cell_type": "markdown",
   "id": "c5e19d72",
   "metadata": {
    "papermill": {
     "duration": 0.015655,
     "end_time": "2022-04-12T21:08:51.213494",
     "exception": false,
     "start_time": "2022-04-12T21:08:51.197839",
     "status": "completed"
    },
    "tags": []
   },
   "source": [
    "# Exercises"
   ]
  },
  {
   "cell_type": "markdown",
   "id": "3e9c9f66",
   "metadata": {
    "papermill": {
     "duration": 0.015732,
     "end_time": "2022-04-12T21:08:51.245307",
     "exception": false,
     "start_time": "2022-04-12T21:08:51.229575",
     "status": "completed"
    },
    "tags": []
   },
   "source": [
    "## 1.\n",
    "\n",
    "What is the median of the `points` column in the `reviews` DataFrame?"
   ]
  },
  {
   "cell_type": "code",
   "execution_count": 2,
   "id": "4ff12632",
   "metadata": {
    "execution": {
     "iopub.execute_input": "2022-04-12T21:08:51.280802Z",
     "iopub.status.busy": "2022-04-12T21:08:51.280195Z",
     "iopub.status.idle": "2022-04-12T21:08:51.287292Z",
     "shell.execute_reply": "2022-04-12T21:08:51.287780Z"
    },
    "papermill": {
     "duration": 0.026594,
     "end_time": "2022-04-12T21:08:51.287957",
     "exception": false,
     "start_time": "2022-04-12T21:08:51.261363",
     "status": "completed"
    },
    "tags": []
   },
   "outputs": [
    {
     "data": {
      "application/javascript": [
       "parent.postMessage({\"jupyterEvent\": \"custom.exercise_interaction\", \"data\": {\"outcomeType\": 1, \"valueTowardsCompletion\": 0.14285714285714285, \"interactionType\": 1, \"questionType\": 1, \"questionId\": \"1_MedianPoints\", \"learnToolsVersion\": \"0.3.4\", \"failureMessage\": \"\", \"exceptionClass\": \"\", \"trace\": \"\"}}, \"*\")"
      ],
      "text/plain": [
       "<IPython.core.display.Javascript object>"
      ]
     },
     "metadata": {},
     "output_type": "display_data"
    },
    {
     "data": {
      "text/markdown": [
       "<span style=\"color:#33cc33\">Correct</span>"
      ],
      "text/plain": [
       "Correct"
      ]
     },
     "metadata": {},
     "output_type": "display_data"
    }
   ],
   "source": [
    "median_points = reviews.points.median()\n",
    "\n",
    "# Check your answer\n",
    "q1.check()"
   ]
  },
  {
   "cell_type": "code",
   "execution_count": 3,
   "id": "f7bdc8b4",
   "metadata": {
    "execution": {
     "iopub.execute_input": "2022-04-12T21:08:51.325473Z",
     "iopub.status.busy": "2022-04-12T21:08:51.324860Z",
     "iopub.status.idle": "2022-04-12T21:08:51.328011Z",
     "shell.execute_reply": "2022-04-12T21:08:51.328474Z"
    },
    "papermill": {
     "duration": 0.023523,
     "end_time": "2022-04-12T21:08:51.328656",
     "exception": false,
     "start_time": "2022-04-12T21:08:51.305133",
     "status": "completed"
    },
    "tags": []
   },
   "outputs": [],
   "source": [
    "#q1.hint()\n",
    "#q1.solution()"
   ]
  },
  {
   "cell_type": "markdown",
   "id": "53e94676",
   "metadata": {
    "papermill": {
     "duration": 0.016996,
     "end_time": "2022-04-12T21:08:51.363018",
     "exception": false,
     "start_time": "2022-04-12T21:08:51.346022",
     "status": "completed"
    },
    "tags": []
   },
   "source": [
    "## 2. \n",
    "What countries are represented in the dataset? (Your answer should not include any duplicates.)"
   ]
  },
  {
   "cell_type": "code",
   "execution_count": 4,
   "id": "66f538f3",
   "metadata": {
    "execution": {
     "iopub.execute_input": "2022-04-12T21:08:51.409839Z",
     "iopub.status.busy": "2022-04-12T21:08:51.409187Z",
     "iopub.status.idle": "2022-04-12T21:08:51.416508Z",
     "shell.execute_reply": "2022-04-12T21:08:51.415974Z"
    },
    "papermill": {
     "duration": 0.036498,
     "end_time": "2022-04-12T21:08:51.416672",
     "exception": false,
     "start_time": "2022-04-12T21:08:51.380174",
     "status": "completed"
    },
    "tags": []
   },
   "outputs": [
    {
     "data": {
      "application/javascript": [
       "parent.postMessage({\"jupyterEvent\": \"custom.exercise_interaction\", \"data\": {\"outcomeType\": 1, \"valueTowardsCompletion\": 0.14285714285714285, \"interactionType\": 1, \"questionType\": 2, \"questionId\": \"2_UniqueCountries\", \"learnToolsVersion\": \"0.3.4\", \"failureMessage\": \"\", \"exceptionClass\": \"\", \"trace\": \"\"}}, \"*\")"
      ],
      "text/plain": [
       "<IPython.core.display.Javascript object>"
      ]
     },
     "metadata": {},
     "output_type": "display_data"
    },
    {
     "data": {
      "text/markdown": [
       "<span style=\"color:#33cc33\">Correct</span>"
      ],
      "text/plain": [
       "Correct"
      ]
     },
     "metadata": {},
     "output_type": "display_data"
    }
   ],
   "source": [
    "countries = reviews.country.unique()\n",
    "\n",
    "# Check your answer\n",
    "q2.check()"
   ]
  },
  {
   "cell_type": "code",
   "execution_count": 5,
   "id": "78c14fae",
   "metadata": {
    "execution": {
     "iopub.execute_input": "2022-04-12T21:08:51.462783Z",
     "iopub.status.busy": "2022-04-12T21:08:51.462090Z",
     "iopub.status.idle": "2022-04-12T21:08:51.465326Z",
     "shell.execute_reply": "2022-04-12T21:08:51.464774Z"
    },
    "papermill": {
     "duration": 0.02897,
     "end_time": "2022-04-12T21:08:51.465471",
     "exception": false,
     "start_time": "2022-04-12T21:08:51.436501",
     "status": "completed"
    },
    "tags": []
   },
   "outputs": [],
   "source": [
    "#q2.hint()\n",
    "#q2.solution()"
   ]
  },
  {
   "cell_type": "markdown",
   "id": "f6235a48",
   "metadata": {
    "papermill": {
     "duration": 0.018202,
     "end_time": "2022-04-12T21:08:51.506060",
     "exception": false,
     "start_time": "2022-04-12T21:08:51.487858",
     "status": "completed"
    },
    "tags": []
   },
   "source": [
    "## 3.\n",
    "How often does each country appear in the dataset? Create a Series `reviews_per_country` mapping countries to the count of reviews of wines from that country."
   ]
  },
  {
   "cell_type": "code",
   "execution_count": 6,
   "id": "be6447b6",
   "metadata": {
    "execution": {
     "iopub.execute_input": "2022-04-12T21:08:51.549163Z",
     "iopub.status.busy": "2022-04-12T21:08:51.548476Z",
     "iopub.status.idle": "2022-04-12T21:08:51.562705Z",
     "shell.execute_reply": "2022-04-12T21:08:51.563152Z"
    },
    "papermill": {
     "duration": 0.038693,
     "end_time": "2022-04-12T21:08:51.563345",
     "exception": false,
     "start_time": "2022-04-12T21:08:51.524652",
     "status": "completed"
    },
    "tags": []
   },
   "outputs": [
    {
     "data": {
      "application/javascript": [
       "parent.postMessage({\"jupyterEvent\": \"custom.exercise_interaction\", \"data\": {\"outcomeType\": 1, \"valueTowardsCompletion\": 0.14285714285714285, \"interactionType\": 1, \"questionType\": 1, \"questionId\": \"3_ReviewsPerCountry\", \"learnToolsVersion\": \"0.3.4\", \"failureMessage\": \"\", \"exceptionClass\": \"\", \"trace\": \"\"}}, \"*\")"
      ],
      "text/plain": [
       "<IPython.core.display.Javascript object>"
      ]
     },
     "metadata": {},
     "output_type": "display_data"
    },
    {
     "data": {
      "text/markdown": [
       "<span style=\"color:#33cc33\">Correct</span>"
      ],
      "text/plain": [
       "Correct"
      ]
     },
     "metadata": {},
     "output_type": "display_data"
    }
   ],
   "source": [
    "reviews_per_country = reviews.country.value_counts()\n",
    "\n",
    "# Check your answer\n",
    "q3.check()"
   ]
  },
  {
   "cell_type": "code",
   "execution_count": 7,
   "id": "43fcf228",
   "metadata": {
    "execution": {
     "iopub.execute_input": "2022-04-12T21:08:51.607464Z",
     "iopub.status.busy": "2022-04-12T21:08:51.606778Z",
     "iopub.status.idle": "2022-04-12T21:08:51.613801Z",
     "shell.execute_reply": "2022-04-12T21:08:51.613302Z"
    },
    "papermill": {
     "duration": 0.030886,
     "end_time": "2022-04-12T21:08:51.613980",
     "exception": false,
     "start_time": "2022-04-12T21:08:51.583094",
     "status": "completed"
    },
    "tags": []
   },
   "outputs": [
    {
     "data": {
      "application/javascript": [
       "parent.postMessage({\"jupyterEvent\": \"custom.exercise_interaction\", \"data\": {\"interactionType\": 2, \"questionType\": 1, \"questionId\": \"3_ReviewsPerCountry\", \"learnToolsVersion\": \"0.3.4\", \"valueTowardsCompletion\": 0.0, \"failureMessage\": \"\", \"exceptionClass\": \"\", \"trace\": \"\", \"outcomeType\": 4}}, \"*\")"
      ],
      "text/plain": [
       "<IPython.core.display.Javascript object>"
      ]
     },
     "metadata": {},
     "output_type": "display_data"
    },
    {
     "data": {
      "text/markdown": [
       "<span style=\"color:#3366cc\">Hint:</span> To see a list of unique values and how often they occur in a Series, use the `value_counts` method."
      ],
      "text/plain": [
       "Hint: To see a list of unique values and how often they occur in a Series, use the `value_counts` method."
      ]
     },
     "metadata": {},
     "output_type": "display_data"
    }
   ],
   "source": [
    "q3.hint()\n",
    "#q3.solution()"
   ]
  },
  {
   "cell_type": "markdown",
   "id": "7c364099",
   "metadata": {
    "papermill": {
     "duration": 0.021456,
     "end_time": "2022-04-12T21:08:51.658836",
     "exception": false,
     "start_time": "2022-04-12T21:08:51.637380",
     "status": "completed"
    },
    "tags": []
   },
   "source": [
    "## 4.\n",
    "Create variable `centered_price` containing a version of the `price` column with the mean price subtracted.\n",
    "\n",
    "(Note: this 'centering' transformation is a common preprocessing step before applying various machine learning algorithms.) "
   ]
  },
  {
   "cell_type": "code",
   "execution_count": 8,
   "id": "517df166",
   "metadata": {
    "execution": {
     "iopub.execute_input": "2022-04-12T21:08:51.707209Z",
     "iopub.status.busy": "2022-04-12T21:08:51.706515Z",
     "iopub.status.idle": "2022-04-12T21:08:51.713859Z",
     "shell.execute_reply": "2022-04-12T21:08:51.714350Z"
    },
    "papermill": {
     "duration": 0.0342,
     "end_time": "2022-04-12T21:08:51.714523",
     "exception": false,
     "start_time": "2022-04-12T21:08:51.680323",
     "status": "completed"
    },
    "tags": []
   },
   "outputs": [
    {
     "data": {
      "application/javascript": [
       "parent.postMessage({\"jupyterEvent\": \"custom.exercise_interaction\", \"data\": {\"outcomeType\": 1, \"valueTowardsCompletion\": 0.14285714285714285, \"interactionType\": 1, \"questionType\": 1, \"questionId\": \"4_CenteredPrice\", \"learnToolsVersion\": \"0.3.4\", \"failureMessage\": \"\", \"exceptionClass\": \"\", \"trace\": \"\"}}, \"*\")"
      ],
      "text/plain": [
       "<IPython.core.display.Javascript object>"
      ]
     },
     "metadata": {},
     "output_type": "display_data"
    },
    {
     "data": {
      "text/markdown": [
       "<span style=\"color:#33cc33\">Correct</span>"
      ],
      "text/plain": [
       "Correct"
      ]
     },
     "metadata": {},
     "output_type": "display_data"
    }
   ],
   "source": [
    "centered_price = reviews.price - reviews.price.mean()\n",
    "\n",
    "# Check your answer\n",
    "q4.check()"
   ]
  },
  {
   "cell_type": "code",
   "execution_count": 9,
   "id": "402507c8",
   "metadata": {
    "execution": {
     "iopub.execute_input": "2022-04-12T21:08:51.762422Z",
     "iopub.status.busy": "2022-04-12T21:08:51.761742Z",
     "iopub.status.idle": "2022-04-12T21:08:51.764774Z",
     "shell.execute_reply": "2022-04-12T21:08:51.764264Z"
    },
    "papermill": {
     "duration": 0.02881,
     "end_time": "2022-04-12T21:08:51.764941",
     "exception": false,
     "start_time": "2022-04-12T21:08:51.736131",
     "status": "completed"
    },
    "tags": []
   },
   "outputs": [],
   "source": [
    "#q4.hint()\n",
    "#q4.solution()"
   ]
  },
  {
   "cell_type": "markdown",
   "id": "04a1d686",
   "metadata": {
    "papermill": {
     "duration": 0.021865,
     "end_time": "2022-04-12T21:08:51.809310",
     "exception": false,
     "start_time": "2022-04-12T21:08:51.787445",
     "status": "completed"
    },
    "tags": []
   },
   "source": [
    "## 5.\n",
    "I'm an economical wine buyer. Which wine is the \"best bargain\"? Create a variable `bargain_wine` with the title of the wine with the highest points-to-price ratio in the dataset."
   ]
  },
  {
   "cell_type": "code",
   "execution_count": 10,
   "id": "d0c58ea0",
   "metadata": {
    "execution": {
     "iopub.execute_input": "2022-04-12T21:08:51.861037Z",
     "iopub.status.busy": "2022-04-12T21:08:51.860342Z",
     "iopub.status.idle": "2022-04-12T21:08:51.871257Z",
     "shell.execute_reply": "2022-04-12T21:08:51.870746Z"
    },
    "papermill": {
     "duration": 0.039772,
     "end_time": "2022-04-12T21:08:51.871392",
     "exception": false,
     "start_time": "2022-04-12T21:08:51.831620",
     "status": "completed"
    },
    "tags": []
   },
   "outputs": [
    {
     "data": {
      "application/javascript": [
       "parent.postMessage({\"jupyterEvent\": \"custom.exercise_interaction\", \"data\": {\"outcomeType\": 1, \"valueTowardsCompletion\": 0.14285714285714285, \"interactionType\": 1, \"questionType\": 2, \"questionId\": \"5_BargainWine\", \"learnToolsVersion\": \"0.3.4\", \"failureMessage\": \"\", \"exceptionClass\": \"\", \"trace\": \"\"}}, \"*\")"
      ],
      "text/plain": [
       "<IPython.core.display.Javascript object>"
      ]
     },
     "metadata": {},
     "output_type": "display_data"
    },
    {
     "data": {
      "text/markdown": [
       "<span style=\"color:#33cc33\">Correct</span>"
      ],
      "text/plain": [
       "Correct"
      ]
     },
     "metadata": {},
     "output_type": "display_data"
    }
   ],
   "source": [
    "index=(reviews.points / reviews.price).idxmax()\n",
    "bargain_wine = reviews.loc[index, 'title']\n",
    "\n",
    "# Check your answer\n",
    "q5.check()"
   ]
  },
  {
   "cell_type": "code",
   "execution_count": 11,
   "id": "af33be78",
   "metadata": {
    "execution": {
     "iopub.execute_input": "2022-04-12T21:08:51.922084Z",
     "iopub.status.busy": "2022-04-12T21:08:51.921478Z",
     "iopub.status.idle": "2022-04-12T21:08:51.923828Z",
     "shell.execute_reply": "2022-04-12T21:08:51.923231Z"
    },
    "papermill": {
     "duration": 0.02919,
     "end_time": "2022-04-12T21:08:51.923971",
     "exception": false,
     "start_time": "2022-04-12T21:08:51.894781",
     "status": "completed"
    },
    "tags": []
   },
   "outputs": [],
   "source": [
    "#q5.hint()\n",
    "#q5.solution()"
   ]
  },
  {
   "cell_type": "markdown",
   "id": "0463163f",
   "metadata": {
    "papermill": {
     "duration": 0.022559,
     "end_time": "2022-04-12T21:08:51.970031",
     "exception": false,
     "start_time": "2022-04-12T21:08:51.947472",
     "status": "completed"
    },
    "tags": []
   },
   "source": [
    "## 6.\n",
    "There are only so many words you can use when describing a bottle of wine. Is a wine more likely to be \"tropical\" or \"fruity\"? Create a Series `descriptor_counts` counting how many times each of these two words appears in the `description` column in the dataset. (For simplicity, let's ignore the capitalized versions of these words.)"
   ]
  },
  {
   "cell_type": "code",
   "execution_count": 12,
   "id": "660c4fa8",
   "metadata": {
    "execution": {
     "iopub.execute_input": "2022-04-12T21:08:52.018977Z",
     "iopub.status.busy": "2022-04-12T21:08:52.018303Z",
     "iopub.status.idle": "2022-04-12T21:08:52.145663Z",
     "shell.execute_reply": "2022-04-12T21:08:52.145176Z"
    },
    "papermill": {
     "duration": 0.152592,
     "end_time": "2022-04-12T21:08:52.145797",
     "exception": false,
     "start_time": "2022-04-12T21:08:51.993205",
     "status": "completed"
    },
    "tags": []
   },
   "outputs": [
    {
     "data": {
      "application/javascript": [
       "parent.postMessage({\"jupyterEvent\": \"custom.exercise_interaction\", \"data\": {\"outcomeType\": 1, \"valueTowardsCompletion\": 0.14285714285714285, \"interactionType\": 1, \"questionType\": 1, \"questionId\": \"6_DescriptorCounts\", \"learnToolsVersion\": \"0.3.4\", \"failureMessage\": \"\", \"exceptionClass\": \"\", \"trace\": \"\"}}, \"*\")"
      ],
      "text/plain": [
       "<IPython.core.display.Javascript object>"
      ]
     },
     "metadata": {},
     "output_type": "display_data"
    },
    {
     "data": {
      "text/markdown": [
       "<span style=\"color:#33cc33\">Correct</span>"
      ],
      "text/plain": [
       "Correct"
      ]
     },
     "metadata": {},
     "output_type": "display_data"
    }
   ],
   "source": [
    "trop_number=reviews.description.map(lambda d: \"tropical\" in d).sum()\n",
    "fruity_number=reviews.description.map(lambda d: \"fruity\" in d).sum()\n",
    "descriptor_counts = pd.Series([trop_number, fruity_number], index=['tropical','fruity'])\n",
    "# Check your answer\n",
    "q6.check()"
   ]
  },
  {
   "cell_type": "code",
   "execution_count": 13,
   "id": "57f1998b",
   "metadata": {
    "execution": {
     "iopub.execute_input": "2022-04-12T21:08:52.197957Z",
     "iopub.status.busy": "2022-04-12T21:08:52.197141Z",
     "iopub.status.idle": "2022-04-12T21:08:52.199745Z",
     "shell.execute_reply": "2022-04-12T21:08:52.199251Z"
    },
    "papermill": {
     "duration": 0.030125,
     "end_time": "2022-04-12T21:08:52.199910",
     "exception": false,
     "start_time": "2022-04-12T21:08:52.169785",
     "status": "completed"
    },
    "tags": []
   },
   "outputs": [],
   "source": [
    "#q6.hint()\n",
    "#q6.solution()"
   ]
  },
  {
   "cell_type": "markdown",
   "id": "14448dfd",
   "metadata": {
    "papermill": {
     "duration": 0.023471,
     "end_time": "2022-04-12T21:08:52.247417",
     "exception": false,
     "start_time": "2022-04-12T21:08:52.223946",
     "status": "completed"
    },
    "tags": []
   },
   "source": [
    "## 7.\n",
    "We'd like to host these wine reviews on our website, but a rating system ranging from 80 to 100 points is too hard to understand - we'd like to translate them into simple star ratings. A score of 95 or higher counts as 3 stars, a score of at least 85 but less than 95 is 2 stars. Any other score is 1 star.\n",
    "\n",
    "Also, the Canadian Vintners Association bought a lot of ads on the site, so any wines from Canada should automatically get 3 stars, regardless of points.\n",
    "\n",
    "Create a series `star_ratings` with the number of stars corresponding to each review in the dataset."
   ]
  },
  {
   "cell_type": "code",
   "execution_count": 14,
   "id": "165caa86",
   "metadata": {
    "execution": {
     "iopub.execute_input": "2022-04-12T21:08:52.301847Z",
     "iopub.status.busy": "2022-04-12T21:08:52.301169Z",
     "iopub.status.idle": "2022-04-12T21:08:55.610672Z",
     "shell.execute_reply": "2022-04-12T21:08:55.610043Z",
     "shell.execute_reply.started": "2022-04-12T21:08:14.525299Z"
    },
    "papermill": {
     "duration": 3.33894,
     "end_time": "2022-04-12T21:08:55.610843",
     "exception": false,
     "start_time": "2022-04-12T21:08:52.271903",
     "status": "completed"
    },
    "tags": []
   },
   "outputs": [
    {
     "data": {
      "application/javascript": [
       "parent.postMessage({\"jupyterEvent\": \"custom.exercise_interaction\", \"data\": {\"outcomeType\": 1, \"valueTowardsCompletion\": 0.14285714285714285, \"interactionType\": 1, \"questionType\": 1, \"questionId\": \"7_StarRatings\", \"learnToolsVersion\": \"0.3.4\", \"failureMessage\": \"\", \"exceptionClass\": \"\", \"trace\": \"\"}}, \"*\")"
      ],
      "text/plain": [
       "<IPython.core.display.Javascript object>"
      ]
     },
     "metadata": {},
     "output_type": "display_data"
    },
    {
     "data": {
      "text/markdown": [
       "<span style=\"color:#33cc33\">Correct</span>"
      ],
      "text/plain": [
       "Correct"
      ]
     },
     "metadata": {},
     "output_type": "display_data"
    }
   ],
   "source": [
    "def st(row):\n",
    "    if row.points>=95: return 3\n",
    "    elif row.country == 'Canada': return 3\n",
    "    elif row.points>=85: return 2\n",
    "    else: return 1\n",
    "star_ratings = reviews.apply(st, axis='columns')\n",
    "\n",
    "# Check your answer\n",
    "q7.check()"
   ]
  },
  {
   "cell_type": "code",
   "execution_count": 15,
   "id": "21e75f29",
   "metadata": {
    "execution": {
     "iopub.execute_input": "2022-04-12T21:08:55.672960Z",
     "iopub.status.busy": "2022-04-12T21:08:55.672350Z",
     "iopub.status.idle": "2022-04-12T21:08:55.675701Z",
     "shell.execute_reply": "2022-04-12T21:08:55.676347Z"
    },
    "papermill": {
     "duration": 0.036169,
     "end_time": "2022-04-12T21:08:55.676518",
     "exception": false,
     "start_time": "2022-04-12T21:08:55.640349",
     "status": "completed"
    },
    "tags": []
   },
   "outputs": [
    {
     "data": {
      "application/javascript": [
       "parent.postMessage({\"jupyterEvent\": \"custom.exercise_interaction\", \"data\": {\"interactionType\": 3, \"questionType\": 1, \"questionId\": \"7_StarRatings\", \"learnToolsVersion\": \"0.3.4\", \"valueTowardsCompletion\": 0.0, \"failureMessage\": \"\", \"exceptionClass\": \"\", \"trace\": \"\", \"outcomeType\": 4}}, \"*\")"
      ],
      "text/plain": [
       "<IPython.core.display.Javascript object>"
      ]
     },
     "metadata": {},
     "output_type": "display_data"
    },
    {
     "data": {
      "text/markdown": [
       "<span style=\"color:#33cc99\">Solution:</span> \n",
       "```python\n",
       "def stars(row):\n",
       "    if row.country == 'Canada':\n",
       "        return 3\n",
       "    elif row.points >= 95:\n",
       "        return 3\n",
       "    elif row.points >= 85:\n",
       "        return 2\n",
       "    else:\n",
       "        return 1\n",
       "    \n",
       "star_ratings = reviews.apply(stars, axis='columns')\n",
       "```"
      ],
      "text/plain": [
       "Solution: \n",
       "```python\n",
       "def stars(row):\n",
       "    if row.country == 'Canada':\n",
       "        return 3\n",
       "    elif row.points >= 95:\n",
       "        return 3\n",
       "    elif row.points >= 85:\n",
       "        return 2\n",
       "    else:\n",
       "        return 1\n",
       "    \n",
       "star_ratings = reviews.apply(stars, axis='columns')\n",
       "```"
      ]
     },
     "metadata": {},
     "output_type": "display_data"
    }
   ],
   "source": [
    "#q7.hint()\n",
    "q7.solution()"
   ]
  },
  {
   "cell_type": "markdown",
   "id": "2bc1af03",
   "metadata": {
    "papermill": {
     "duration": 0.026327,
     "end_time": "2022-04-12T21:08:55.729006",
     "exception": false,
     "start_time": "2022-04-12T21:08:55.702679",
     "status": "completed"
    },
    "tags": []
   },
   "source": [
    "# Keep going\n",
    "Continue to **[grouping and sorting](https://www.kaggle.com/residentmario/grouping-and-sorting)**."
   ]
  },
  {
   "cell_type": "markdown",
   "id": "ac4e7bd4",
   "metadata": {
    "papermill": {
     "duration": 0.025629,
     "end_time": "2022-04-12T21:08:55.780647",
     "exception": false,
     "start_time": "2022-04-12T21:08:55.755018",
     "status": "completed"
    },
    "tags": []
   },
   "source": [
    "---\n",
    "\n",
    "\n",
    "\n",
    "\n",
    "*Have questions or comments? Visit the [course discussion forum](https://www.kaggle.com/learn/pandas/discussion) to chat with other learners.*"
   ]
  }
 ],
 "metadata": {
  "kernelspec": {
   "display_name": "Python 3",
   "language": "python",
   "name": "python3"
  },
  "language_info": {
   "codemirror_mode": {
    "name": "ipython",
    "version": 3
   },
   "file_extension": ".py",
   "mimetype": "text/x-python",
   "name": "python",
   "nbconvert_exporter": "python",
   "pygments_lexer": "ipython3",
   "version": "3.7.12"
  },
  "papermill": {
   "default_parameters": {},
   "duration": 21.230019,
   "end_time": "2022-04-12T21:08:56.519175",
   "environment_variables": {},
   "exception": null,
   "input_path": "__notebook__.ipynb",
   "output_path": "__notebook__.ipynb",
   "parameters": {},
   "start_time": "2022-04-12T21:08:35.289156",
   "version": "2.3.3"
  }
 },
 "nbformat": 4,
 "nbformat_minor": 5
}
